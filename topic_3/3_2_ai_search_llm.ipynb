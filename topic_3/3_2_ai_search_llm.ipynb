{
 "cells": [
  {
   "cell_type": "markdown",
   "id": "654676dc-e42a-4b40-a489-47b32e955f6e",
   "metadata": {},
   "source": [
    "# Applied Project in Big Data on Industrial Dataset"
   ]
  },
  {
   "cell_type": "markdown",
   "id": "5abd7760-9e00-4132-8b5d-bf01f1a27073",
   "metadata": {},
   "source": [
    "## MODELING\n",
    "## Part II. YandexGPT for AI search"
   ]
  },
  {
   "cell_type": "markdown",
   "id": "5038f409-9920-48a9-a4fe-cd46a27b8b97",
   "metadata": {},
   "source": [
    "### 1. Libraries and setup"
   ]
  },
  {
   "cell_type": "code",
   "execution_count": null,
   "id": "11600dc5-ef91-49f9-9af6-629f74092ead",
   "metadata": {
    "tags": []
   },
   "outputs": [],
   "source": [
    "!pip install \"langchain<0.0.300\" langchain-community"
   ]
  },
  {
   "cell_type": "code",
   "execution_count": null,
   "id": "f7efb6bb-1bab-49b9-9e56-dbc2a15e0857",
   "metadata": {
    "tags": []
   },
   "outputs": [],
   "source": [
    "import os\n",
    "import json\n",
    "import time\n",
    "import requests\n",
    "import datetime\n",
    "import langchain\n",
    "from langchain.text_splitter import RecursiveCharacterTextSplitter\n",
    "from langchain.vectorstores import OpenSearchVectorSearch\n",
    "from langchain.chains import LLMChain\n",
    "from langchain_core.documents import Document\n",
    "from yagpt import YandexGPTEmbeddings, YandexLLM"
   ]
  },
  {
   "cell_type": "code",
   "execution_count": null,
   "id": "de53711c-150a-463b-a3a3-9c262dcac6ca",
   "metadata": {
    "tags": []
   },
   "outputs": [],
   "source": [
    "def read_json(file_path):\n",
    "    with open(file_path) as file:\n",
    "        data = json.load(file)\n",
    "    return data"
   ]
  },
  {
   "cell_type": "code",
   "execution_count": null,
   "id": "c7913b1a-f7e3-4610-81b7-d6c5af264e30",
   "metadata": {
    "tags": []
   },
   "outputs": [],
   "source": [
    "ROOT_PATH = '/home/jovyan/__AIKNOWLEDGEBASE'\n",
    "TXTS_PATH = f'{ROOT_PATH}/texts_yaocr'\n",
    "creds = read_json(f'{ROOT_PATH}/accessyaapi')\n",
    "LLM_SERVICE_ACCOUNT_ID = creds['service_account_id']\n",
    "LLM_KEY_ID = creds['key_id']\n",
    "LLM_PRIVATE_KEY = creds['secret_key']\n",
    "FOLDER_ID = creds['folder_id']"
   ]
  },
  {
   "cell_type": "markdown",
   "id": "5f7419d8-ab7b-4cea-a065-0659a4c4a5e9",
   "metadata": {},
   "source": [
    "### 2. Chat bot with YandexGPT"
   ]
  },
  {
   "cell_type": "code",
   "execution_count": null,
   "id": "a9d04dcc-1cc5-4a30-b1f5-c7d07507f588",
   "metadata": {
    "tags": []
   },
   "outputs": [],
   "source": [
    "class BotChain():\n",
    "    def __init__(self, llm_service_account_id, llm_private_key, llm_key_id,\n",
    "                 folder_id):\n",
    "        self.llm_service_account_id = llm_service_account_id\n",
    "        self.llm_private_key = llm_private_key\n",
    "        self.llm_key_id = llm_key_id\n",
    "        self.folder_id = folder_id\n",
    "\n",
    "    def ya_embed(self):\n",
    "        embeddings = YandexGPTEmbeddings(\n",
    "            api_key=self.llm_private_key,\n",
    "            folder_id=self.folder_id\n",
    "        )\n",
    "        return embeddings\n",
    "\n",
    "    def ya_chain(self, temperature, instructions):\n",
    "        llm = YandexLLM(\n",
    "            api_key=self.llm_private_key,\n",
    "            folder_id=self.folder_id,\n",
    "            temperature=temperature,\n",
    "            instruction_text=instructions\n",
    "        )\n",
    "        document_prompt = langchain.prompts.PromptTemplate(\n",
    "            input_variables=['page_content'], \n",
    "            template='{page_content}'\n",
    "        )\n",
    "        document_variable_name = 'context'\n",
    "        prompt_override = \"\"\"\n",
    "            Ответь на вопрос, используя информацию из текста ниже.\n",
    "            Текст:\n",
    "            -----\n",
    "            {context}\n",
    "            -----\n",
    "            Вопрос:\n",
    "            {query}\n",
    "            \"\"\"\n",
    "        prompt = langchain.prompts.PromptTemplate(\n",
    "            template=prompt_override,\n",
    "            input_variables=['context', 'query']\n",
    "        )\n",
    "        llm_chain = langchain.chains.LLMChain(\n",
    "            llm=llm, \n",
    "            prompt=prompt\n",
    "        )\n",
    "        chain = langchain.chains.combine_documents.stuff.StuffDocumentsChain(\n",
    "            llm_chain=llm_chain,\n",
    "            document_prompt=document_prompt,\n",
    "            document_variable_name=document_variable_name\n",
    "        )\n",
    "        return chain"
   ]
  },
  {
   "cell_type": "code",
   "execution_count": null,
   "id": "d9a226b7-42eb-4080-93bc-5b9d0450238b",
   "metadata": {
    "tags": []
   },
   "outputs": [],
   "source": [
    "BOTCHAIN = BotChain(\n",
    "    llm_service_account_id=LLM_SERVICE_ACCOUNT_ID, \n",
    "    llm_private_key=LLM_PRIVATE_KEY,\n",
    "    llm_key_id=LLM_KEY_ID,\n",
    "    folder_id=FOLDER_ID\n",
    ")"
   ]
  },
  {
   "cell_type": "code",
   "execution_count": null,
   "id": "7026c598-5001-431f-abab-3efab755f867",
   "metadata": {
    "tags": []
   },
   "outputs": [],
   "source": [
    "temperature = .3\n",
    "instructions = 'Ты должен помогать искать информацию в документах'\n",
    "CHAIN = BOTCHAIN.ya_chain(temperature, instructions)"
   ]
  },
  {
   "cell_type": "markdown",
   "id": "1d901f54-9971-456e-96f4-4033a4aca73c",
   "metadata": {},
   "source": [
    "### 3. Add documents as a context"
   ]
  },
  {
   "cell_type": "markdown",
   "id": "468b6e00-ba6a-43ae-a07e-ff683c8ea2d2",
   "metadata": {},
   "source": [
    "#### 3.1. Test with no documents"
   ]
  },
  {
   "cell_type": "code",
   "execution_count": null,
   "id": "3edc68b9-8be0-44e4-8629-d1b5e4230450",
   "metadata": {
    "tags": []
   },
   "outputs": [],
   "source": [
    "response = CHAIN.run(\n",
    "    input_documents=[], \n",
    "    query='кто ты?'\n",
    ")\n",
    "response"
   ]
  },
  {
   "cell_type": "markdown",
   "id": "2908c818-4481-4734-a3cd-a08207344795",
   "metadata": {},
   "source": [
    "#### 3.2. Creating context"
   ]
  },
  {
   "cell_type": "code",
   "execution_count": null,
   "id": "b20e9645-57d3-4963-b76f-f75262ffe117",
   "metadata": {
    "tags": []
   },
   "outputs": [],
   "source": [
    "file_paths = os.listdir(TXTS_PATH)\n",
    "file_paths"
   ]
  },
  {
   "cell_type": "markdown",
   "id": "8950d715-360b-49d8-933f-4467f8b538db",
   "metadata": {},
   "source": [
    "##### One document"
   ]
  },
  {
   "cell_type": "code",
   "execution_count": null,
   "id": "8396c10a-5f97-4f9e-9903-202a95440121",
   "metadata": {
    "tags": []
   },
   "outputs": [],
   "source": [
    "with open(f'{TXTS_PATH}/{file_paths[1]}', 'r') as file:\n",
    "    text_1 = file.read()\n",
    "\n",
    "print(text_1)"
   ]
  },
  {
   "cell_type": "code",
   "execution_count": null,
   "id": "388f1bad-4b3d-48a8-b12d-a4a3644e674f",
   "metadata": {
    "tags": []
   },
   "outputs": [],
   "source": [
    "document_1 = Document(\n",
    "    page_content=text_1[:1500],\n",
    "    metadata={'name': 'Летопись природы за ноябрь 1974 - ноябрь 1975 гг.'}\n",
    ")"
   ]
  },
  {
   "cell_type": "markdown",
   "id": "a2bc0be1-e346-4d88-a74f-5dfcaed9cbaa",
   "metadata": {},
   "source": [
    "##### One more document"
   ]
  },
  {
   "cell_type": "code",
   "execution_count": null,
   "id": "1b5fe071-f25e-4df4-b7ab-180b8278c338",
   "metadata": {
    "tags": []
   },
   "outputs": [],
   "source": [
    "with open(f'{TXTS_PATH}/{file_paths[2]}', 'r') as file:\n",
    "    text_2 = file.read()\n",
    "\n",
    "print(text_2)"
   ]
  },
  {
   "cell_type": "code",
   "execution_count": null,
   "id": "885de79f-87fb-43d7-ad9b-bffe72453cac",
   "metadata": {
    "tags": []
   },
   "outputs": [],
   "source": [
    "document_2 = Document(\n",
    "    page_content=text_2[:1500],\n",
    "    metadata={'name': 'Летопись природы с ноября I978 г. по октябрь I979 г.'}\n",
    ")"
   ]
  },
  {
   "cell_type": "markdown",
   "id": "7de3ddb6-5ef7-46c5-8a9d-cd7299d379f1",
   "metadata": {
    "tags": []
   },
   "source": [
    "##### Put documents into chat bot"
   ]
  },
  {
   "cell_type": "code",
   "execution_count": null,
   "id": "49b9728f-f2be-4797-817d-a59dea41cb75",
   "metadata": {
    "tags": []
   },
   "outputs": [],
   "source": [
    "response = CHAIN.run(\n",
    "    input_documents=[document_1, document_2], \n",
    "    query='за какой период у тебя есть данные по летописям природы?'\n",
    ")\n",
    "print(response)"
   ]
  },
  {
   "cell_type": "code",
   "execution_count": null,
   "id": "001d8bc1-d618-4b5b-8b91-b003eb5806ea",
   "metadata": {
    "tags": []
   },
   "outputs": [],
   "source": [
    "response = CHAIN.run(\n",
    "    input_documents=[document_1, document_2], \n",
    "    query='какие данные есть в летописях природы?'\n",
    ")\n",
    "print(response)"
   ]
  },
  {
   "cell_type": "code",
   "execution_count": null,
   "id": "b4649f37-739c-4a28-bd39-0828f6afba71",
   "metadata": {
    "tags": []
   },
   "outputs": [],
   "source": [
    "response = CHAIN.run(\n",
    "    input_documents=[document_1, document_2], \n",
    "    query='о каком заповеднике идет речь в летописях природы?'\n",
    ")\n",
    "print(response)"
   ]
  },
  {
   "cell_type": "markdown",
   "id": "3250e571-f940-405a-bd6f-be7cf39f44ed",
   "metadata": {},
   "source": [
    "#### 3.3. Embeddings"
   ]
  },
  {
   "cell_type": "code",
   "execution_count": null,
   "id": "a14977d9-a336-47bb-9f23-e3b71ad028fd",
   "metadata": {},
   "outputs": [],
   "source": [
    "EMBED = BOTCHAIN.ya_embed()"
   ]
  },
  {
   "cell_type": "code",
   "execution_count": null,
   "id": "681b62ca-07b7-441b-9a3e-937314d4c631",
   "metadata": {
    "tags": []
   },
   "outputs": [],
   "source": [
    "docs_embeddings = EMBED.embed_documents(\n",
    "    [text_1[:1500], text_2[:1500]], \n",
    "    chunk_size=0\n",
    ")"
   ]
  },
  {
   "cell_type": "code",
   "execution_count": null,
   "id": "db0a1e73-2e40-414b-a26c-6b9640b11bef",
   "metadata": {
    "tags": []
   },
   "outputs": [],
   "source": [
    "len(docs_embeddings)"
   ]
  },
  {
   "cell_type": "code",
   "execution_count": null,
   "id": "00f55285-dd9a-4c88-b43b-55b23f2a27bb",
   "metadata": {
    "tags": []
   },
   "outputs": [],
   "source": [
    "len(docs_embeddings[0])"
   ]
  },
  {
   "cell_type": "code",
   "execution_count": null,
   "id": "94743798-812a-4965-88cf-5db5b3623568",
   "metadata": {
    "tags": []
   },
   "outputs": [],
   "source": [
    "print(docs_embeddings[0])"
   ]
  },
  {
   "cell_type": "code",
   "execution_count": null,
   "id": "af83c37c-9f40-420c-8564-8b9d825888c1",
   "metadata": {},
   "outputs": [],
   "source": []
  }
 ],
 "metadata": {
  "kernelspec": {
   "display_name": "Python 3 (ipykernel)",
   "language": "python",
   "name": "python3"
  },
  "language_info": {
   "codemirror_mode": {
    "name": "ipython",
    "version": 3
   },
   "file_extension": ".py",
   "mimetype": "text/x-python",
   "name": "python",
   "nbconvert_exporter": "python",
   "pygments_lexer": "ipython3",
   "version": "3.10.8"
  },
  "widgets": {
   "application/vnd.jupyter.widget-state+json": {
    "state": {},
    "version_major": 2,
    "version_minor": 0
   }
  }
 },
 "nbformat": 4,
 "nbformat_minor": 5
}
