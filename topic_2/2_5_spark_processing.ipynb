{
 "cells": [
  {
   "cell_type": "markdown",
   "id": "655feebd-4c49-4420-98d5-ce90dd8b67ce",
   "metadata": {},
   "source": [
    "# Applied Project in Big Data on Industrial Dataset"
   ]
  },
  {
   "cell_type": "markdown",
   "id": "cb0e215b-97e6-49b6-a344-6f59aeb2554e",
   "metadata": {},
   "source": [
    "## DATA COLLECTION AND PROCESSING TECHNIQUES\n",
    "## Part V. Spark advanced data processing"
   ]
  },
  {
   "cell_type": "markdown",
   "id": "23822efd-cece-427b-b96d-3ab2a92cf560",
   "metadata": {},
   "source": [
    "### 1. Libraries and Spark setup"
   ]
  },
  {
   "cell_type": "code",
   "execution_count": null,
   "id": "2a78ba91-a8ad-43c3-806e-5fc23c39a35b",
   "metadata": {
    "tags": []
   },
   "outputs": [],
   "source": [
    "import os\n",
    "import sys\n",
    "import json\n",
    "import numpy as np\n",
    "import pandas as pd\n",
    "import matplotlib.pyplot as plt\n",
    "pd.set_option('display.max_columns', None)\n",
    "pd.set_option('display.max_rows', None)"
   ]
  },
  {
   "cell_type": "code",
   "execution_count": null,
   "id": "897724d7-5ef5-4ff1-9b8e-a33ae8457ca2",
   "metadata": {
    "tags": []
   },
   "outputs": [],
   "source": [
    "from pyspark import SparkContext, SparkConf\n",
    "from pyspark.sql import SparkSession\n",
    "from pyspark.sql import functions as F\n",
    "from pyspark.sql.types import *\n",
    "from pyspark.sql.window import Window"
   ]
  },
  {
   "cell_type": "code",
   "execution_count": null,
   "id": "2f214c4d-2142-4557-814f-4fb22a0370d4",
   "metadata": {
    "tags": []
   },
   "outputs": [],
   "source": [
    "print('user:', os.environ['JUPYTERHUB_SERVICE_PREFIX'])\n",
    "\n",
    "def uiWebUrl(self):\n",
    "    from urllib.parse import urlparse\n",
    "    web_url = self._jsc.sc().uiWebUrl().get()\n",
    "    port = urlparse(web_url).port\n",
    "    return '{}proxy/{}/jobs/'.format(os.environ['JUPYTERHUB_SERVICE_PREFIX'], port)\n",
    "\n",
    "SparkContext.uiWebUrl = property(uiWebUrl)\n",
    "\n",
    "conf = SparkConf()\n",
    "conf.set('spark.master', 'local[*]')\n",
    "conf.set('spark.driver.memory', '16G')\n",
    "conf.set('spark.driver.maxResultSize', '8G')\n",
    "sc = SparkContext(conf=conf)\n",
    "spark = SparkSession(sc)\n",
    "spark"
   ]
  },
  {
   "cell_type": "code",
   "execution_count": null,
   "id": "4fd2c2d3-3816-423f-b760-a70937e6b478",
   "metadata": {
    "tags": []
   },
   "outputs": [],
   "source": [
    "WORK_PATH = '/home/jovyan/__RAYPFP24'\n",
    "\n",
    "\n",
    "def access_data(file_path):\n",
    "    with open(file_path) as file:\n",
    "        access_data = json.load(file)\n",
    "    return access_data\n",
    "\n",
    "\n",
    "access_s3_data = access_data(f'{WORK_PATH}/.access_jhub_data')"
   ]
  },
  {
   "cell_type": "code",
   "execution_count": null,
   "id": "05eb3b93-0d2b-467f-9ef8-20dcadc89256",
   "metadata": {
    "tags": []
   },
   "outputs": [],
   "source": [
    "spark._jsc.hadoopConfiguration().set('fs.s3a.access.key', access_s3_data['aws_access_key_id'])\n",
    "spark._jsc.hadoopConfiguration().set('fs.s3a.secret.key', access_s3_data['aws_secret_access_key'])\n",
    "spark._jsc.hadoopConfiguration().set('fs.s3a.impl','org.apache.hadoop.fs.s3a.S3AFileSystem')\n",
    "spark._jsc.hadoopConfiguration().set('fs.s3a.multipart.size', '104857600')\n",
    "spark._jsc.hadoopConfiguration().set('fs.s3a.block.size', '33554432')\n",
    "spark._jsc.hadoopConfiguration().set('fs.s3a.threads.max', '256')\n",
    "spark._jsc.hadoopConfiguration().set('fs.s3a.endpoint', 'http://storage.yandexcloud.net')\n",
    "spark._jsc.hadoopConfiguration().set('fs.s3a.aws.credentials.provider', \n",
    "                                     'org.apache.hadoop.fs.s3a.SimpleAWSCredentialsProvider')"
   ]
  },
  {
   "cell_type": "markdown",
   "id": "40e8ba75-8dcf-418c-9019-dae245606403",
   "metadata": {},
   "source": [
    "### 2. Data load with Spark"
   ]
  },
  {
   "cell_type": "markdown",
   "id": "e58ff640-b256-45f2-a9d8-8d91712c6750",
   "metadata": {},
   "source": [
    "#### 2.1. Direct path to files"
   ]
  },
  {
   "cell_type": "code",
   "execution_count": null,
   "id": "004db434-e169-436c-a863-01cc075edd7e",
   "metadata": {
    "tags": []
   },
   "outputs": [],
   "source": [
    "files_path = f'{WORK_PATH}/data/events'\n",
    "files_mask = f'{files_path}/data_2023-08-29.csv'  # test part of data\n",
    "sdf = spark.read.option('escape','\"').csv(files_mask, header=True)"
   ]
  },
  {
   "cell_type": "code",
   "execution_count": null,
   "id": "c0e68a49-05cb-480d-9b16-d3cceb807c00",
   "metadata": {
    "tags": []
   },
   "outputs": [],
   "source": [
    "sdf.printSchema()"
   ]
  },
  {
   "cell_type": "code",
   "execution_count": null,
   "id": "d414bcff-6a4a-4b58-b987-4e183672c979",
   "metadata": {
    "tags": []
   },
   "outputs": [],
   "source": [
    "sdf.count()"
   ]
  },
  {
   "cell_type": "markdown",
   "id": "86f1d2a5-4af1-44e7-b06a-32931dfb4b45",
   "metadata": {},
   "source": [
    "#### 2.2. Through bucket connect"
   ]
  },
  {
   "cell_type": "code",
   "execution_count": null,
   "id": "b806ed32-3ed8-4cdf-b025-ad18ad8dec78",
   "metadata": {
    "tags": []
   },
   "outputs": [],
   "source": [
    "files_path = f'data/events'\n",
    "files_mask = f'{files_path}/data_2023-08-29.csv'  # test part of data\n",
    "sdf = spark.read.option('escape','\"').csv(\n",
    "    f's3a://{access_s3_data[\"bucket_name\"]}/{files_mask}', \n",
    "    header=True\n",
    ")"
   ]
  },
  {
   "cell_type": "code",
   "execution_count": null,
   "id": "c6715d8e-bc08-412d-9d6d-091223ed8a7f",
   "metadata": {
    "tags": []
   },
   "outputs": [],
   "source": [
    "sdf.printSchema()"
   ]
  },
  {
   "cell_type": "code",
   "execution_count": null,
   "id": "d268486d-5ffa-4d2a-b050-3cbfeac51597",
   "metadata": {
    "tags": []
   },
   "outputs": [],
   "source": [
    "sdf.count()"
   ]
  },
  {
   "cell_type": "markdown",
   "id": "db1a6b75-6001-4b41-a2ad-486222e84bd6",
   "metadata": {},
   "source": [
    "#### 2.3. More data"
   ]
  },
  {
   "cell_type": "code",
   "execution_count": null,
   "id": "ef7f7813-ce35-46dc-bd23-088eca48ad85",
   "metadata": {
    "tags": []
   },
   "outputs": [],
   "source": [
    "files_path = 'data/events'\n",
    "files_mask = f'{files_path}/data_2023-08-0*.csv'  # first decade for the month\n",
    "sdf = spark.read.option('escape','\"').csv(\n",
    "    f's3a://{access_s3_data[\"bucket_name\"]}/{files_mask}', \n",
    "    header=True\n",
    ")"
   ]
  },
  {
   "cell_type": "code",
   "execution_count": null,
   "id": "5b9e1611-a6b2-4192-910b-03b88ab3d787",
   "metadata": {
    "tags": []
   },
   "outputs": [],
   "source": [
    "%%time\n",
    "sdf.count()"
   ]
  },
  {
   "cell_type": "code",
   "execution_count": null,
   "id": "76bd70e0-9a25-4e5a-8b5a-276461c94a91",
   "metadata": {
    "tags": []
   },
   "outputs": [],
   "source": [
    "sdf = sdf.withColumn('event_datetime', F.to_timestamp('event_datetime'))"
   ]
  },
  {
   "cell_type": "code",
   "execution_count": null,
   "id": "0d80fa0d-8fcf-4e4c-b8cd-0b7527992ccb",
   "metadata": {
    "tags": []
   },
   "outputs": [],
   "source": [
    "sdf.limit(5).toPandas()"
   ]
  },
  {
   "cell_type": "markdown",
   "id": "52495431-e57c-4960-a4fb-067108af50a4",
   "metadata": {},
   "source": [
    "### 3. Basic EDA"
   ]
  },
  {
   "cell_type": "markdown",
   "id": "12ad3c4c-17d5-4268-a20c-53d97095282e",
   "metadata": {},
   "source": [
    "#### 3.1. Users and devices"
   ]
  },
  {
   "cell_type": "code",
   "execution_count": null,
   "id": "32854bb6-616a-4173-a8a7-01a597334ca2",
   "metadata": {
    "tags": []
   },
   "outputs": [],
   "source": [
    "sdf.select('profile_id').distinct().count()"
   ]
  },
  {
   "cell_type": "code",
   "execution_count": null,
   "id": "fad30699-33dc-4a51-9db4-bcd1ef2b18f2",
   "metadata": {
    "tags": []
   },
   "outputs": [],
   "source": [
    "sdf.select('appmetrica_device_id').distinct().count()"
   ]
  },
  {
   "cell_type": "markdown",
   "id": "6f5ea41c-d720-4827-9501-6bc6db93e075",
   "metadata": {},
   "source": [
    "#### 3.2. Events"
   ]
  },
  {
   "cell_type": "code",
   "execution_count": null,
   "id": "b081dedd-81b1-4e58-98c7-388c3ddd2432",
   "metadata": {
    "tags": []
   },
   "outputs": [],
   "source": [
    "sdf.select('event_json').distinct().count()"
   ]
  },
  {
   "cell_type": "code",
   "execution_count": null,
   "id": "ab98d520-d7e0-4d93-ba37-628f7f7be091",
   "metadata": {
    "tags": []
   },
   "outputs": [],
   "source": [
    "events = sdf.select('event_json').distinct().collect()\n",
    "events[:10]"
   ]
  },
  {
   "cell_type": "code",
   "execution_count": null,
   "id": "e8cc2d6a-d8a5-422c-8a1e-625f6549bc69",
   "metadata": {
    "tags": []
   },
   "outputs": [],
   "source": [
    "event_names = sdf.select('event_name').distinct().collect()\n",
    "len(event_names)"
   ]
  },
  {
   "cell_type": "markdown",
   "id": "493ca2eb-daac-4d09-8d33-c51838651ac9",
   "metadata": {},
   "source": [
    "### 4. Data processing"
   ]
  },
  {
   "cell_type": "markdown",
   "id": "92516534-d22e-4dec-bafb-80f6c2eb5eca",
   "metadata": {},
   "source": [
    "#### 4.1. Single user example"
   ]
  },
  {
   "cell_type": "code",
   "execution_count": null,
   "id": "bb8f272a-78f2-444b-9094-2f7365223a28",
   "metadata": {
    "tags": []
   },
   "outputs": [],
   "source": [
    "# find at least one user with payments\n",
    "df = sdf.filter(\n",
    "    sdf.event_name.like('%Оплата/Завешили оплату%') \n",
    "    | sdf.event_name.like('%Оплата/Завершили оплату%') \n",
    ").limit(5).toPandas()\n",
    "df.head()"
   ]
  },
  {
   "cell_type": "code",
   "execution_count": null,
   "id": "bb35398b-5ae6-418b-bb14-5c6d0d1d4ebe",
   "metadata": {
    "tags": []
   },
   "outputs": [],
   "source": [
    "sample_id = df.profile_id[0]\n",
    "print(sample_id)"
   ]
  },
  {
   "cell_type": "code",
   "execution_count": null,
   "id": "bd7fe00f-305d-4a3a-ab54-74d9d3d77396",
   "metadata": {
    "tags": []
   },
   "outputs": [],
   "source": [
    "sdf_sample = sdf.filter(sdf.profile_id == sample_id)"
   ]
  },
  {
   "cell_type": "code",
   "execution_count": null,
   "id": "63c1917c-2bd0-4e59-acb2-6b7151568419",
   "metadata": {
    "tags": []
   },
   "outputs": [],
   "source": [
    "sdf_sample.count()"
   ]
  },
  {
   "cell_type": "code",
   "execution_count": null,
   "id": "6a60b6db-7476-442d-963c-0a5f910a2185",
   "metadata": {
    "tags": []
   },
   "outputs": [],
   "source": [
    "sdf_sample.limit(5).toPandas()"
   ]
  },
  {
   "cell_type": "code",
   "execution_count": null,
   "id": "2899fe17-8604-49d4-9a5b-562932e4577a",
   "metadata": {
    "tags": []
   },
   "outputs": [],
   "source": [
    "event_names = sdf_sample.select('event_name').distinct().collect()\n",
    "len(event_names)"
   ]
  },
  {
   "cell_type": "code",
   "execution_count": null,
   "id": "5c80cdb0-51fd-4ff8-9eda-3936dd6ff13c",
   "metadata": {
    "tags": []
   },
   "outputs": [],
   "source": [
    "event_names"
   ]
  },
  {
   "cell_type": "markdown",
   "id": "06aa827b-0ea4-439c-a5ad-d7293202857d",
   "metadata": {},
   "source": [
    "##### 4.1.1. History for single user"
   ]
  },
  {
   "cell_type": "code",
   "execution_count": null,
   "id": "7a194e1f-7837-4917-82bc-62e48d9444c4",
   "metadata": {
    "tags": []
   },
   "outputs": [],
   "source": [
    "user_grouped = sdf_sample.groupBy('event_name').count()"
   ]
  },
  {
   "cell_type": "code",
   "execution_count": null,
   "id": "5598af00-de99-43fb-84f7-5038c6d56d56",
   "metadata": {
    "tags": []
   },
   "outputs": [],
   "source": [
    "user_grouped.toPandas()"
   ]
  },
  {
   "cell_type": "code",
   "execution_count": null,
   "id": "a702a263-577b-4301-987b-f2385ea65495",
   "metadata": {
    "tags": []
   },
   "outputs": [],
   "source": [
    "sdf_sample.select(\n",
    "    'event_datetime',\n",
    "    'event_name'\n",
    ").orderBy(F.col('event_datetime'), ascending=False).toPandas()"
   ]
  },
  {
   "cell_type": "markdown",
   "id": "fa046f70-0296-4478-bc69-721134d1f194",
   "metadata": {},
   "source": [
    "##### 4.1.2. Lags dataset for single user"
   ]
  },
  {
   "cell_type": "code",
   "execution_count": null,
   "id": "0e7299b4-4849-4ce6-9109-2d090337783c",
   "metadata": {
    "tags": []
   },
   "outputs": [],
   "source": [
    "w_10sec = (Window()\n",
    "      .partitionBy(F.col('profile_id'))\n",
    "      .orderBy(F.col('event_datetime').cast('timestamp').cast('long'))\n",
    "      .rangeBetween(-11, -1))\n",
    "w_10_to_60sec = (Window()\n",
    "      .partitionBy(F.col('profile_id'))\n",
    "      .orderBy(F.col('event_datetime').cast('timestamp').cast('long'))\n",
    "      .rangeBetween(-61, -12))\n",
    "w_60sec_to_5min = (Window()\n",
    "      .partitionBy(F.col('profile_id'))\n",
    "      .orderBy(F.col('event_datetime').cast('timestamp').cast('long'))\n",
    "      .rangeBetween(-301, -62))"
   ]
  },
  {
   "cell_type": "code",
   "execution_count": null,
   "id": "cc4fb16c-ea41-428b-a128-91d86a4c95ba",
   "metadata": {
    "tags": []
   },
   "outputs": [],
   "source": [
    "sdf_ds = (\n",
    "    sdf_sample\n",
    "        .withColumn('lag_10sec', F.collect_list('event_name').over(w_10sec))\n",
    "        .withColumn('lag_10_to_60sec', F.collect_list('event_name').over(w_10_to_60sec))\n",
    "        .withColumn('lag_60sec_to_5min', F.collect_list('event_name').over(w_60sec_to_5min))\n",
    "        .select(\n",
    "            'event_datetime',\n",
    "            'event_name',\n",
    "            'lag_10sec',\n",
    "            'lag_10_to_60sec',\n",
    "            'lag_60sec_to_5min'\n",
    "        )\n",
    "    .orderBy(F.col('event_datetime'), ascending=False)\n",
    ")\n",
    "sdf_ds.limit(5).toPandas()"
   ]
  },
  {
   "cell_type": "code",
   "execution_count": null,
   "id": "791b1cbb-2d99-490d-af5f-aa58ed95ef84",
   "metadata": {
    "tags": []
   },
   "outputs": [],
   "source": [
    "sdf_ds.printSchema()"
   ]
  },
  {
   "cell_type": "code",
   "execution_count": null,
   "id": "c3d42066-868d-41a2-885e-e5707bbbb39b",
   "metadata": {
    "tags": []
   },
   "outputs": [],
   "source": [
    "#ev1 = 'Проверка/История платежей'\n",
    "ev1 = 'Мои штрафы/Документы/Есть СТС'\n",
    "sdf_ds = (\n",
    "    sdf_ds\n",
    "        .withColumn(\n",
    "            'lag_60sec_ev1', \n",
    "            F.when(F.array_contains(\"lag_10sec\", ev1), 1).otherwise(0)\n",
    "        )\n",
    "        .withColumn(\n",
    "            'lag_10_to_60sec_ev1', \n",
    "            F.when(F.array_contains(\"lag_10_to_60sec\", ev1), 1).otherwise(0)\n",
    "        )\n",
    "        .withColumn(\n",
    "            'lag_60sec_to_5min_ev1', \n",
    "            F.when(F.array_contains(\"lag_60sec_to_5min\", ev1), 1).otherwise(0)\n",
    "        )\n",
    ")\n",
    "sdf_ds.limit(5).toPandas()"
   ]
  },
  {
   "cell_type": "code",
   "execution_count": null,
   "id": "a65e1157-d4f4-42d0-8720-db80712c01f5",
   "metadata": {
    "tags": []
   },
   "outputs": [],
   "source": [
    "sdf_ds.filter(sdf_ds.lag_60sec_to_5min_ev1 == 1).limit(5).toPandas()"
   ]
  },
  {
   "cell_type": "code",
   "execution_count": null,
   "id": "aea33e51-7a43-4a9f-b908-9c33a7e3ce82",
   "metadata": {
    "tags": []
   },
   "outputs": [],
   "source": [
    "def count_ev(lst, ev=''):\n",
    "    return lst.count(ev)"
   ]
  },
  {
   "cell_type": "code",
   "execution_count": null,
   "id": "e219a678-361a-4667-8421-7111d7d93f96",
   "metadata": {
    "tags": []
   },
   "outputs": [],
   "source": [
    "from pyspark.sql.types import IntegerType\n",
    "\n",
    "# Converting function to UDF \n",
    "count_ev1_udf = F.udf(lambda x: count_ev(x, ev=ev1), IntegerType())"
   ]
  },
  {
   "cell_type": "code",
   "execution_count": null,
   "id": "8d7c1541-6abd-462d-b83b-1d1f731f3354",
   "metadata": {
    "tags": []
   },
   "outputs": [],
   "source": [
    "sdf_ds = (\n",
    "    sdf_ds\n",
    "        .withColumn(\n",
    "            'lag_60sec_to_5min_ev1', \n",
    "            count_ev1_udf(F.col(\"lag_60sec_to_5min\"))\n",
    "        )\n",
    ")\n",
    "sdf_ds.limit(10).toPandas()"
   ]
  },
  {
   "cell_type": "code",
   "execution_count": null,
   "id": "89fbf2ef-d29e-46a1-b8db-2406167c3cc6",
   "metadata": {
    "tags": []
   },
   "outputs": [],
   "source": [
    "sdf_ds.filter(sdf_ds.lag_60sec_to_5min_ev1 > 1).limit(5).toPandas()"
   ]
  },
  {
   "cell_type": "code",
   "execution_count": null,
   "id": "1a23f343-511d-4625-8c1c-3ae7aed0840e",
   "metadata": {},
   "outputs": [],
   "source": []
  }
 ],
 "metadata": {
  "kernelspec": {
   "display_name": "Python 3 (ipykernel)",
   "language": "python",
   "name": "python3"
  },
  "language_info": {
   "codemirror_mode": {
    "name": "ipython",
    "version": 3
   },
   "file_extension": ".py",
   "mimetype": "text/x-python",
   "name": "python",
   "nbconvert_exporter": "python",
   "pygments_lexer": "ipython3",
   "version": "3.9.7"
  },
  "widgets": {
   "application/vnd.jupyter.widget-state+json": {
    "state": {},
    "version_major": 2,
    "version_minor": 0
   }
  }
 },
 "nbformat": 4,
 "nbformat_minor": 5
}
