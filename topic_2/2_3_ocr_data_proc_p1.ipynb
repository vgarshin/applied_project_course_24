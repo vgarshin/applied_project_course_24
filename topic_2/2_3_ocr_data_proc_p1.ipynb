{
 "cells": [
  {
   "cell_type": "markdown",
   "id": "d5cc59ab-12b6-4ee8-aa88-3a03eb7b88c7",
   "metadata": {},
   "source": [
    "# Applied Project in Big Data on Industrial Dataset"
   ]
  },
  {
   "cell_type": "markdown",
   "id": "d74d107f-2904-4c00-b676-f2b6b7065c9c",
   "metadata": {
    "tags": []
   },
   "source": [
    "## DATA COLLECTION AND PROCESSING TECHNIQUES\n",
    "## Part III. OCR preprocessing: Tesseract"
   ]
  },
  {
   "cell_type": "markdown",
   "id": "26e1bb7f-7d57-48b8-8060-2aabb26a789a",
   "metadata": {},
   "source": [
    "### 1. Libraries and config parameters"
   ]
  },
  {
   "cell_type": "code",
   "execution_count": null,
   "id": "5c8ddcc0-3ccc-4f37-bba8-066edeb5f9f7",
   "metadata": {
    "tags": []
   },
   "outputs": [],
   "source": [
    "import os\n",
    "import glob\n",
    "import json\n",
    "import pytesseract\n",
    "from tqdm.auto import tqdm\n",
    "from pdf2image import convert_from_path\n",
    "import matplotlib.pyplot as plt\n",
    "from PIL import Image"
   ]
  },
  {
   "cell_type": "code",
   "execution_count": null,
   "id": "dc5d3402-b94c-469c-b9cc-7f1c60b2bb5f",
   "metadata": {
    "tags": []
   },
   "outputs": [],
   "source": [
    "DATA_PATH = '/home/jovyan/__AIKNOWLEDGEBASE'\n",
    "PDFS_PATH = f'{DATA_PATH}/rawbooks'\n",
    "IMGS_CACHE = f'{DATA_PATH}/imgcache'\n",
    "TXTS_PATH = f'{DATA_PATH}/texts_pytess'\n",
    "\n",
    "os.makedirs(IMGS_CACHE, exist_ok=True)\n",
    "os.makedirs(TXTS_PATH, exist_ok=True)"
   ]
  },
  {
   "cell_type": "markdown",
   "id": "d38b46c0-248a-4148-81ec-3a2345c47204",
   "metadata": {},
   "source": [
    "### 2. Files to process"
   ]
  },
  {
   "cell_type": "code",
   "execution_count": null,
   "id": "f40aa16a-4af9-4859-aaac-30660240379c",
   "metadata": {
    "tags": []
   },
   "outputs": [],
   "source": [
    "pdf_files = glob.glob(f'{PDFS_PATH}/**/*.pdf', recursive=True)\n",
    "pdf_files = pdf_files[:2]\n",
    "print('files to process:', len(pdf_files))\n",
    "print('pdf files:', '\\nfirst:', pdf_files[0], '\\nlast:', pdf_files[-1])"
   ]
  },
  {
   "cell_type": "markdown",
   "id": "1f8fffaf-4788-4506-9608-d88a699ec525",
   "metadata": {},
   "source": [
    "### 3. Tesseract OCR"
   ]
  },
  {
   "cell_type": "code",
   "execution_count": null,
   "id": "25b96a1b-bccd-45e4-9524-4920995f16c4",
   "metadata": {
    "tags": []
   },
   "outputs": [],
   "source": [
    "for pdf_file in tqdm(pdf_files, desc='pdf files'):\n",
    "    if '.pdf' in pdf_file:\n",
    "        # clean cache\n",
    "        for file_name in glob.glob(f'{IMGS_CACHE}/*.jpg'):\n",
    "            os.remove(file_name)\n",
    "\n",
    "        # convert PDF to images\n",
    "        pdf_pages = convert_from_path(\n",
    "            pdf_path=pdf_file,\n",
    "            dpi=200,\n",
    "            output_folder=IMGS_CACHE,\n",
    "            first_page=None,\n",
    "            last_page=None,\n",
    "            fmt='JPEG'\n",
    "        )\n",
    "\n",
    "        # convert images to text\n",
    "        text = ''\n",
    "        for img_name in tqdm(sorted(os.listdir(f'{IMGS_CACHE}')), desc='images'):\n",
    "            if '.jpg' in img_name:\n",
    "                text_tmp = str(\n",
    "                    pytesseract.image_to_string(\n",
    "                        Image.open(f'{IMGS_CACHE}/{img_name}'),\n",
    "                        lang='eng+rus'\n",
    "                    )\n",
    "                )\n",
    "                text = ' '.join([text, text_tmp])\n",
    "\n",
    "        # write resulting text\n",
    "        file_name = pdf_file.replace(PDFS_PATH, '').replace('/', '').replace('.pdf', '.txt')\n",
    "        file_path = f'{TXTS_PATH}/pytess_{file_name}'\n",
    "        with open(file_path, 'w') as file:\n",
    "            file.write(text)\n",
    "    else:\n",
    "        print('file skiped:', pdf_file)"
   ]
  },
  {
   "cell_type": "markdown",
   "id": "58a22651-1f9b-47bf-a9df-a372ed5c79f3",
   "metadata": {},
   "source": [
    "### 4. Results"
   ]
  },
  {
   "cell_type": "code",
   "execution_count": null,
   "id": "8a427380-c34f-4391-8890-6e2345ac9d70",
   "metadata": {
    "tags": []
   },
   "outputs": [],
   "source": [
    "file_path = os.listdir(IMGS_CACHE)[4]"
   ]
  },
  {
   "cell_type": "code",
   "execution_count": null,
   "id": "09a91214-523d-4282-a54b-d391bc2a2fda",
   "metadata": {
    "tags": []
   },
   "outputs": [],
   "source": [
    "img = Image.open(f'{IMGS_CACHE}/{file_path}')\n",
    "plt.imshow(img)\n",
    "plt.show()"
   ]
  },
  {
   "cell_type": "code",
   "execution_count": null,
   "id": "b6b8cf58-7441-4812-bd49-02899cdec840",
   "metadata": {
    "tags": []
   },
   "outputs": [],
   "source": [
    "print(text)"
   ]
  },
  {
   "cell_type": "code",
   "execution_count": null,
   "id": "beb4184d-00fe-47a1-899f-58af1e71fde0",
   "metadata": {},
   "outputs": [],
   "source": []
  }
 ],
 "metadata": {
  "kernelspec": {
   "display_name": "Python 3 (ipykernel)",
   "language": "python",
   "name": "python3"
  },
  "language_info": {
   "codemirror_mode": {
    "name": "ipython",
    "version": 3
   },
   "file_extension": ".py",
   "mimetype": "text/x-python",
   "name": "python",
   "nbconvert_exporter": "python",
   "pygments_lexer": "ipython3",
   "version": "3.9.7"
  },
  "widgets": {
   "application/vnd.jupyter.widget-state+json": {
    "state": {},
    "version_major": 2,
    "version_minor": 0
   }
  }
 },
 "nbformat": 4,
 "nbformat_minor": 5
}
