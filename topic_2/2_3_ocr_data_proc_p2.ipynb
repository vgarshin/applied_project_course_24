{
 "cells": [
  {
   "cell_type": "markdown",
   "id": "d5cc59ab-12b6-4ee8-aa88-3a03eb7b88c7",
   "metadata": {},
   "source": [
    "# Applied Project in Big Data on Industrial Dataset"
   ]
  },
  {
   "cell_type": "markdown",
   "id": "d74d107f-2904-4c00-b676-f2b6b7065c9c",
   "metadata": {},
   "source": [
    "## DATA COLLECTION AND PROCESSING TECHNIQUES\n",
    "## Part III. OCR preprocessing: Yandex Vision OCR"
   ]
  },
  {
   "cell_type": "markdown",
   "id": "26e1bb7f-7d57-48b8-8060-2aabb26a789a",
   "metadata": {},
   "source": [
    "### 1. Libraries and config parameters"
   ]
  },
  {
   "cell_type": "code",
   "execution_count": null,
   "id": "5c8ddcc0-3ccc-4f37-bba8-066edeb5f9f7",
   "metadata": {
    "tags": []
   },
   "outputs": [],
   "source": [
    "import os\n",
    "import time\n",
    "import glob\n",
    "import json\n",
    "import base64\n",
    "import requests\n",
    "import numpy as np\n",
    "from tqdm.auto import tqdm\n",
    "from pdf2image import convert_from_path\n",
    "import matplotlib.pyplot as plt\n",
    "from PIL import Image"
   ]
  },
  {
   "cell_type": "code",
   "execution_count": null,
   "id": "dc5d3402-b94c-469c-b9cc-7f1c60b2bb5f",
   "metadata": {
    "tags": []
   },
   "outputs": [],
   "source": [
    "DATA_PATH = '/home/jovyan/__AIKNOWLEDGEBASE'\n",
    "PDFS_PATH = f'{DATA_PATH}/rawbooks'\n",
    "IMGS_CACHE = f'{DATA_PATH}/imgcache'\n",
    "RAWOCR_PATH = f'{DATA_PATH}/rawocr'\n",
    "TXTS_PATH = f'{DATA_PATH}/texts_yaocr'\n",
    "OCR_MODEL = 'table'  # or `page`\n",
    "SLEEP = 1\n",
    "\n",
    "os.makedirs(IMGS_CACHE, exist_ok=True)\n",
    "os.makedirs(RAWOCR_PATH, exist_ok=True)\n",
    "os.makedirs(TXTS_PATH, exist_ok=True)"
   ]
  },
  {
   "cell_type": "markdown",
   "id": "b73b73d5-031a-4d46-8e9e-252d06b62269",
   "metadata": {},
   "source": [
    "### 2. Files to process"
   ]
  },
  {
   "cell_type": "code",
   "execution_count": null,
   "id": "f40aa16a-4af9-4859-aaac-30660240379c",
   "metadata": {
    "tags": []
   },
   "outputs": [],
   "source": [
    "pdf_files = glob.glob(f'{PDFS_PATH}/**/*.pdf', recursive=True)\n",
    "pdf_files = pdf_files[:2]\n",
    "print('files to process:', len(pdf_files))\n",
    "print('pdf files:', '\\nfirst:', pdf_files[0], '\\nlast:', pdf_files[-1])"
   ]
  },
  {
   "cell_type": "markdown",
   "id": "9babc76c-e8f0-4e68-b824-00dd81fac17a",
   "metadata": {},
   "source": [
    "### 3. Utils"
   ]
  },
  {
   "cell_type": "code",
   "execution_count": null,
   "id": "23491db7-192c-4279-87e3-e18df365131d",
   "metadata": {
    "tags": []
   },
   "outputs": [],
   "source": [
    "def json_data(file_path):\n",
    "    with open(file_path) as file:\n",
    "        access_data = json.load(file)\n",
    "    return access_data\n",
    "\n",
    "\n",
    "def ocr_json(json_data, file_path):\n",
    "    with open(file_path, 'w') as file:\n",
    "        json.dump(json_data, file)\n",
    "\n",
    "\n",
    "def encode_file(file_path):\n",
    "    with open(file_path, 'rb') as file:\n",
    "        file_content = file.read()\n",
    "    return base64.b64encode(file_content).decode('utf-8')\n",
    "\n",
    "\n",
    "creds = json_data(file_path=f'{DATA_PATH}/.accessyaapi')\n",
    "print(creds.keys())"
   ]
  },
  {
   "cell_type": "markdown",
   "id": "b4fa505c-499a-4753-96ac-7b441bbcbdca",
   "metadata": {},
   "source": [
    "### 4. Yandex Vision OCR"
   ]
  },
  {
   "cell_type": "code",
   "execution_count": null,
   "id": "25b96a1b-bccd-45e4-9524-4920995f16c4",
   "metadata": {
    "tags": []
   },
   "outputs": [],
   "source": [
    "for pdf_file in tqdm(pdf_files, desc='pdf files'):\n",
    "    if '.pdf' in pdf_file:\n",
    "        # clean cache\n",
    "        for file_name in glob.glob(f'{IMGS_CACHE}/*.jpg'):\n",
    "            os.remove(file_name)\n",
    "\n",
    "        # convert PDF to images\n",
    "        pdf_pages = convert_from_path(\n",
    "            pdf_path=pdf_file,\n",
    "            dpi=200,\n",
    "            output_folder=IMGS_CACHE,\n",
    "            first_page=None,\n",
    "            last_page=None,\n",
    "            fmt='JPEG'\n",
    "        )\n",
    "\n",
    "        # create path for raw ocr\n",
    "        rawocr_dir = pdf_file.replace(\n",
    "            PDFS_PATH,\n",
    "            RAWOCR_PATH\n",
    "        ).replace(\n",
    "            '.pdf', ''\n",
    "        )\n",
    "        os.makedirs(rawocr_dir, exist_ok=True)\n",
    "\n",
    "        # convert images to text\n",
    "        text = ''\n",
    "        for img_name in tqdm(sorted(os.listdir(f'{IMGS_CACHE}')), desc='images'):\n",
    "            if '.jpg' in img_name:\n",
    "                content = encode_file(f'{IMGS_CACHE}/{img_name}')\n",
    "                data = {\n",
    "                    'mimeType': 'JPEG',\n",
    "                    'languageCodes': ['*'],\n",
    "                    'model': OCR_MODEL,\n",
    "                    'content': content\n",
    "                }\n",
    "                url = 'https://ocr.api.cloud.yandex.net/ocr/v1/recognizeText'\n",
    "                headers = {\n",
    "                    'Content-Type': 'application/json',\n",
    "                    'Authorization': f'Api-Key {creds[\"secret_key\"]}',\n",
    "                    'x-folder-id': creds['folder_id'],\n",
    "                    'x-data-logging-enabled': 'true'\n",
    "                }\n",
    "                flag = True\n",
    "                while flag:\n",
    "                    r = requests.post(url=url, headers=headers, data=json.dumps(data))\n",
    "                    if r.status_code == 200:\n",
    "                        # save raw ocr\n",
    "                        rawocr_path = f'{rawocr_dir}/{img_name.replace(\".jpg\", \".json\")}'\n",
    "                        ocr_json(r.json(), rawocr_path)\n",
    "                        # extract text\n",
    "                        text_tmp = r.json()['result']['textAnnotation']['fullText']\n",
    "                        text = ' '.join([text, text_tmp])\n",
    "                        flag = False\n",
    "                    else:\n",
    "                        print('error ->', r.text)\n",
    "                    time.sleep(SLEEP)\n",
    "    else:\n",
    "        print('file skiped:', pdf_file)"
   ]
  },
  {
   "cell_type": "code",
   "execution_count": null,
   "id": "e78db748-2cb8-4b41-9d49-a2a68420800d",
   "metadata": {
    "tags": []
   },
   "outputs": [],
   "source": [
    "for pdf_file in tqdm(pdf_files, desc='pdf files'):\n",
    "    if '.pdf' in pdf_file:\n",
    "        rawocr_dir = pdf_file.replace(\n",
    "            PDFS_PATH,\n",
    "            RAWOCR_PATH\n",
    "        ).replace(\n",
    "            '.pdf', ''\n",
    "        )\n",
    "        # read json files and make a text\n",
    "        json_files = glob.glob(f'{rawocr_dir}/*.json', recursive=True)\n",
    "        text = ''\n",
    "        for n_page, json_file in enumerate(tqdm(json_files, desc='json files')):\n",
    "            d = json_data(json_file)\n",
    "            # block to print out tables to text\n",
    "            tables = d['result']['textAnnotation']['tables']\n",
    "            tables_text = ''\n",
    "            if tables:\n",
    "                for tbl in tables:\n",
    "                    rows = int(tbl['rowCount'])\n",
    "                    cols = int(tbl['columnCount'])\n",
    "                    arr = np.empty(shape=[rows, cols], dtype=object)\n",
    "                    for cell in tbl['cells']:\n",
    "                        arr[int(cell['rowIndex']), int(cell['columnIndex'])] = cell['text']\n",
    "                    table_text = ''\n",
    "                    for row in arr:\n",
    "                        row_txt = '|'\n",
    "                        for col in row:\n",
    "                            row_txt += (col.replace('\\n', ' ') + '|' if col else '')\n",
    "                        table_text += (row_txt + '\\n')\n",
    "                    tables_text = tables_text + '\\n\\n' + table_text\n",
    "            text = '{}\\npage {}\\n\\n{}\\n{}'.format(\n",
    "                text,\n",
    "                str(n_page + 1),\n",
    "                d['result']['textAnnotation']['fullText'],\n",
    "                tables_text\n",
    "            )\n",
    "        # write resulting text\n",
    "        file_path = pdf_file.replace(\n",
    "            PDFS_PATH + '/',\n",
    "            'yaocrai_'\n",
    "        ).replace(\n",
    "            '/',\n",
    "            '_'\n",
    "        ).replace(\n",
    "            '.pdf', '.txt'\n",
    "        )\n",
    "        with open(f'{TXTS_PATH}/{file_path}', 'w') as file:\n",
    "            file.write(text)\n",
    "    else:\n",
    "        print('file skiped:', pdf_file)"
   ]
  },
  {
   "cell_type": "markdown",
   "id": "c556cc69-c907-48fd-b48a-de252273588f",
   "metadata": {},
   "source": [
    "### 5. Results"
   ]
  },
  {
   "cell_type": "code",
   "execution_count": null,
   "id": "5e0e4b1b-ad2a-4d40-8397-9306742a411a",
   "metadata": {},
   "outputs": [],
   "source": [
    "file_path = glob.glob(f'{RAWOCR_PATH}/**/*.json', recursive=True)[44]"
   ]
  },
  {
   "cell_type": "code",
   "execution_count": null,
   "id": "fc22d707-aaa4-40a2-b785-b7a882672d01",
   "metadata": {
    "tags": []
   },
   "outputs": [],
   "source": [
    "res = json_data(file_path)"
   ]
  },
  {
   "cell_type": "code",
   "execution_count": null,
   "id": "87071b02-f0b1-4c16-9526-193cf4122473",
   "metadata": {
    "tags": []
   },
   "outputs": [],
   "source": [
    "res"
   ]
  },
  {
   "cell_type": "code",
   "execution_count": null,
   "id": "bb017e28-eadd-44da-ad6a-036a2849db2b",
   "metadata": {
    "tags": []
   },
   "outputs": [],
   "source": [
    "file_path = os.listdir(TXTS_PATH)[0]"
   ]
  },
  {
   "cell_type": "code",
   "execution_count": null,
   "id": "86f1b90f-2bf9-48c8-8f76-4040a631466b",
   "metadata": {
    "tags": []
   },
   "outputs": [],
   "source": [
    "with open(f'{TXTS_PATH}/{file_path}', 'r') as file:\n",
    "    print(file.read())"
   ]
  },
  {
   "cell_type": "code",
   "execution_count": null,
   "id": "3ca24c00-ac37-4394-a58c-11da5c51608b",
   "metadata": {},
   "outputs": [],
   "source": []
  }
 ],
 "metadata": {
  "kernelspec": {
   "display_name": "Python 3 (ipykernel)",
   "language": "python",
   "name": "python3"
  },
  "language_info": {
   "codemirror_mode": {
    "name": "ipython",
    "version": 3
   },
   "file_extension": ".py",
   "mimetype": "text/x-python",
   "name": "python",
   "nbconvert_exporter": "python",
   "pygments_lexer": "ipython3",
   "version": "3.10.8"
  },
  "widgets": {
   "application/vnd.jupyter.widget-state+json": {
    "state": {},
    "version_major": 2,
    "version_minor": 0
   }
  }
 },
 "nbformat": 4,
 "nbformat_minor": 5
}
