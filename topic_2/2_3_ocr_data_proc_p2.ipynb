{
 "cells": [
  {
   "cell_type": "markdown",
   "id": "d5cc59ab-12b6-4ee8-aa88-3a03eb7b88c7",
   "metadata": {},
   "source": [
    "# Applied Project in Big Data on Industrial Dataset"
   ]
  },
  {
   "cell_type": "markdown",
   "id": "d74d107f-2904-4c00-b676-f2b6b7065c9c",
   "metadata": {},
   "source": [
    "## DATA COLLECTION AND PROCESSING TECHNIQUES\n",
    "## Part III. OCR preprocessing: Yandex Vision OCR"
   ]
  },
  {
   "cell_type": "markdown",
   "id": "26e1bb7f-7d57-48b8-8060-2aabb26a789a",
   "metadata": {},
   "source": [
    "### 1. Libraries and config parameters"
   ]
  },
  {
   "cell_type": "code",
   "execution_count": null,
   "id": "5c8ddcc0-3ccc-4f37-bba8-066edeb5f9f7",
   "metadata": {
    "tags": []
   },
   "outputs": [],
   "source": [
    "import os\n",
    "import time\n",
    "import glob\n",
    "import json\n",
    "import base64\n",
    "import requests\n",
    "import numpy as np\n",
    "from tqdm.auto import tqdm\n",
    "from pdf2image import convert_from_path\n",
    "import matplotlib.pyplot as plt\n",
    "from PIL import Image"
   ]
  },
  {
   "cell_type": "code",
   "execution_count": null,
   "id": "dc5d3402-b94c-469c-b9cc-7f1c60b2bb5f",
   "metadata": {
    "tags": []
   },
   "outputs": [],
   "source": [
    "DATA_PATH = '/home/jovyan/__AIKNOWLEDGEBASE'\n",
    "PDFS_PATH = f'{DATA_PATH}/rawbooks'\n",
    "IMGS_CACHE = f'{DATA_PATH}/imgcache'\n",
    "RAWOCR_PATH = f'{DATA_PATH}/rawocr'\n",
    "TXTS_PATH = f'{DATA_PATH}/texts_yaocr'\n",
    "OCR_MODEL = 'table'  # or `page`\n",
    "SLEEP = 1\n",
    "\n",
    "os.makedirs(IMGS_CACHE, exist_ok=True)\n",
    "os.makedirs(RAWOCR_PATH, exist_ok=True)\n",
    "os.makedirs(TXTS_PATH, exist_ok=True)"
   ]
  },
  {
   "cell_type": "markdown",
   "id": "b73b73d5-031a-4d46-8e9e-252d06b62269",
   "metadata": {},
   "source": [
    "### 2. Files to process"
   ]
  },
  {
   "cell_type": "code",
   "execution_count": null,
   "id": "f40aa16a-4af9-4859-aaac-30660240379c",
   "metadata": {
    "tags": []
   },
   "outputs": [],
   "source": [
    "pdf_files = glob.glob(f'{PDFS_PATH}/**/*.pdf', recursive=True)\n",
    "pdf_files = pdf_files[:2]\n",
    "print('files to process:', len(pdf_files))\n",
    "print('pdf files:', '\\nfirst:', pdf_files[0], '\\nlast:', pdf_files[-1])"
   ]
  },
  {
   "cell_type": "markdown",
   "id": "9babc76c-e8f0-4e68-b824-00dd81fac17a",
   "metadata": {},
   "source": [
    "### 3. Utils"
   ]
  },
  {
   "cell_type": "code",
   "execution_count": null,
   "id": "23491db7-192c-4279-87e3-e18df365131d",
   "metadata": {
    "tags": []
   },
   "outputs": [],
   "source": [
    "def json_data(file_path):\n",
    "    with open(file_path) as file:\n",
    "        access_data = json.load(file)\n",
    "    return access_data\n",
    "\n",
    "\n",
    "def ocr_json(json_data, file_path):\n",
    "    with open(file_path, 'w') as file:\n",
    "        json.dump(json_data, file)\n",
    "\n",
    "\n",
    "def encode_file(file_path):\n",
    "    with open(file_path, 'rb') as file:\n",
    "        file_content = file.read()\n",
    "    return base64.b64encode(file_content).decode('utf-8')\n",
    "\n",
    "\n",
    "creds = json_data(file_path='creds/access_ya_api.json')\n",
    "print(creds.keys())"
   ]
  },
  {
   "cell_type": "markdown",
   "id": "b4fa505c-499a-4753-96ac-7b441bbcbdca",
   "metadata": {},
   "source": [
    "### 4. Yandex Vision OCR"
   ]
  },
  {
   "cell_type": "code",
   "execution_count": null,
   "id": "25b96a1b-bccd-45e4-9524-4920995f16c4",
   "metadata": {
    "tags": []
   },
   "outputs": [],
   "source": [
    "for pdf_file in tqdm(pdf_files, desc='pdf files'):\n",
    "    if '.pdf' in pdf_file:\n",
    "        # clean cache\n",
    "        for file_name in glob.glob(f'{IMGS_CACHE}/*.jpg'):\n",
    "            os.remove(file_name)\n",
    "\n",
    "        # convert PDF to images\n",
    "        pdf_pages = convert_from_path(\n",
    "            pdf_path=pdf_file,\n",
    "            dpi=200,\n",
    "            output_folder=IMGS_CACHE,\n",
    "            first_page=None,\n",
    "            last_page=None,\n",
    "            fmt='JPEG'\n",
    "        )\n",
    "\n",
    "        # create path for raw ocr\n",
    "        rawocr_dir = pdf_file.replace(\n",
    "            PDFS_PATH,\n",
    "            RAWOCR_PATH\n",
    "        ).replace(\n",
    "            '.pdf', ''\n",
    "        )\n",
    "        os.makedirs(rawocr_dir, exist_ok=True)\n",
    "\n",
    "        # convert images to text\n",
    "        text = ''\n",
    "        for img_name in tqdm(sorted(os.listdir(f'{IMGS_CACHE}')), desc='images'):\n",
    "            if '.jpg' in img_name:\n",
    "                content = encode_file(f'{IMGS_CACHE}/{img_name}')\n",
    "                data = {\n",
    "                    'mimeType': 'JPEG',\n",
    "                    'languageCodes': ['*'],\n",
    "                    'model': OCR_MODEL,\n",
    "                    'content': content\n",
    "                }\n",
    "                url = 'https://ocr.api.cloud.yandex.net/ocr/v1/recognizeText'\n",
    "                headers = {\n",
    "                    'Content-Type': 'application/json',\n",
    "                    'Authorization': f'Api-Key {creds[\"secret_key\"]}',\n",
    "                    'x-folder-id': creds['folder_id'],\n",
    "                    'x-data-logging-enabled': 'true'\n",
    "                }\n",
    "                flag = True\n",
    "                while flag:\n",
    "                    r = requests.post(url=url, headers=headers, data=json.dumps(data))\n",
    "                    if r.status_code == 200:\n",
    "                        # save raw ocr\n",
    "                        rawocr_path = f'{rawocr_dir}/{img_name.replace(\".jpg\", \".json\")}'\n",
    "                        ocr_json(r.json(), rawocr_path)\n",
    "                        # extract text\n",
    "                        text_tmp = r.json()['result']['textAnnotation']['fullText']\n",
    "                        text = ' '.join([text, text_tmp])\n",
    "                        flag = False\n",
    "                    else:\n",
    "                        print('error ->', r.text)\n",
    "                    time.sleep(SLEEP)\n",
    "    else:\n",
    "        print('file skiped:', pdf_file)"
   ]
  },
  {
   "cell_type": "code",
   "execution_count": null,
   "id": "e78db748-2cb8-4b41-9d49-a2a68420800d",
   "metadata": {
    "tags": []
   },
   "outputs": [],
   "source": [
    "for pdf_file in tqdm(pdf_files, desc='pdf files'):\n",
    "    if '.pdf' in pdf_file:\n",
    "        rawocr_dir = pdf_file.replace(\n",
    "            PDFS_PATH,\n",
    "            RAWOCR_PATH\n",
    "        ).replace(\n",
    "            '.pdf', ''\n",
    "        )\n",
    "        # read json files and make a text\n",
    "        json_files = glob.glob(f'{rawocr_dir}/*.json', recursive=True)\n",
    "        text = ''\n",
    "        for n_page, json_file in enumerate(tqdm(json_files, desc='json files')):\n",
    "            d = json_data(json_file)\n",
    "            # block to print out tables to text\n",
    "            tables = d['result']['textAnnotation']['tables']\n",
    "            tables_text = ''\n",
    "            if tables:\n",
    "                for tbl in tables:\n",
    "                    rows = int(tbl['rowCount'])\n",
    "                    cols = int(tbl['columnCount'])\n",
    "                    arr = np.empty(shape=[rows, cols], dtype=object)\n",
    "                    for cell in tbl['cells']:\n",
    "                        arr[int(cell['rowIndex']), int(cell['columnIndex'])] = cell['text']\n",
    "                    table_text = ''\n",
    "                    for row in arr:\n",
    "                        row_txt = '|'\n",
    "                        for col in row:\n",
    "                            row_txt += (col.replace('\\n', ' ') + '|' if col else '')\n",
    "                        table_text += (row_txt + '\\n')\n",
    "                    tables_text = tables_text + '\\n\\n' + table_text\n",
    "            text = '{}\\npage {}\\n\\n{}\\n{}'.format(\n",
    "                text,\n",
    "                str(n_page + 1),\n",
    "                d['result']['textAnnotation']['fullText'],\n",
    "                tables_text\n",
    "            )\n",
    "        # write resulting text\n",
    "        file_path = pdf_file.replace(\n",
    "            PDFS_PATH + '/',\n",
    "            'yaocrai_'\n",
    "        ).replace(\n",
    "            '/',\n",
    "            '_'\n",
    "        ).replace(\n",
    "            '.pdf', '.txt'\n",
    "        )\n",
    "        with open(f'{TXTS_PATH}/{file_path}', 'w') as file:\n",
    "            file.write(text)\n",
    "    else:\n",
    "        print('file skiped:', pdf_file)"
   ]
  },
  {
   "cell_type": "markdown",
   "id": "c556cc69-c907-48fd-b48a-de252273588f",
   "metadata": {},
   "source": [
    "### 5. Results"
   ]
  },
  {
   "cell_type": "code",
   "execution_count": null,
   "id": "5e0e4b1b-ad2a-4d40-8397-9306742a411a",
   "metadata": {},
   "outputs": [],
   "source": [
    "file_path = glob.glob(f'{RAWOCR_PATH}/**/*.json', recursive=True)[44]"
   ]
  },
  {
   "cell_type": "code",
   "execution_count": null,
   "id": "fc22d707-aaa4-40a2-b785-b7a882672d01",
   "metadata": {
    "tags": []
   },
   "outputs": [],
   "source": [
    "res = json_data(file_path)"
   ]
  },
  {
   "cell_type": "code",
   "execution_count": null,
   "id": "87071b02-f0b1-4c16-9526-193cf4122473",
   "metadata": {
    "tags": []
   },
   "outputs": [],
   "source": [
    "res"
   ]
  },
  {
   "cell_type": "code",
   "execution_count": null,
   "id": "bb017e28-eadd-44da-ad6a-036a2849db2b",
   "metadata": {
    "tags": []
   },
   "outputs": [],
   "source": [
    "file_path = os.listdir(TXTS_PATH)[0]"
   ]
  },
  {
   "cell_type": "code",
   "execution_count": null,
   "id": "86f1b90f-2bf9-48c8-8f76-4040a631466b",
   "metadata": {
    "tags": []
   },
   "outputs": [],
   "source": [
    "with open(f'{TXTS_PATH}/{file_path}', 'r') as file:\n",
    "    print(file.read())"
   ]
  },
  {
   "cell_type": "code",
   "execution_count": null,
   "id": "3ca24c00-ac37-4394-a58c-11da5c51608b",
   "metadata": {},
   "outputs": [],
   "source": []
  }
 ],
 "metadata": {
  "kernelspec": {
   "display_name": "Python 3 (ipykernel)",
   "language": "python",
   "name": "python3"
  },
  "language_info": {
   "codemirror_mode": {
    "name": "ipython",
    "version": 3
   },
   "file_extension": ".py",
   "mimetype": "text/x-python",
   "name": "python",
   "nbconvert_exporter": "python",
   "pygments_lexer": "ipython3",
   "version": "3.10.8"
  },
  "widgets": {
   "application/vnd.jupyter.widget-state+json": {
    "state": {
     "09848326d0c44e089eb21d02329dd7d3": {
      "model_module": "@jupyter-widgets/controls",
      "model_module_version": "2.0.0",
      "model_name": "HTMLModel",
      "state": {
       "layout": "IPY_MODEL_8bf0eab48d7748b59250c074d91bab64",
       "style": "IPY_MODEL_4813a115bf9948e4b87c37bf83770886",
       "value": "json files: 100%"
      }
     },
     "0b430084e0bc4eeeba5dd974ede2ca88": {
      "model_module": "@jupyter-widgets/controls",
      "model_module_version": "2.0.0",
      "model_name": "HTMLModel",
      "state": {
       "layout": "IPY_MODEL_5561b91769804380beecb2b54c61046c",
       "style": "IPY_MODEL_8fb2d49d0f754706bd93c5a09242bf2c",
       "value": "images:   8%"
      }
     },
     "13f728ebfbcd495ab649625dd2d76ff0": {
      "model_module": "@jupyter-widgets/base",
      "model_module_version": "2.0.0",
      "model_name": "LayoutModel",
      "state": {}
     },
     "16c709148bde4652bfcbb7f415cde92e": {
      "model_module": "@jupyter-widgets/controls",
      "model_module_version": "2.0.0",
      "model_name": "FloatProgressModel",
      "state": {
       "bar_style": "danger",
       "layout": "IPY_MODEL_9c05f50c85d141949d2d2bfcabb779dd",
       "max": 2,
       "style": "IPY_MODEL_4dd47cb6ba8b4f00bf4680e84192d697"
      }
     },
     "1731d4546712473ebea7fd1d1d9a5954": {
      "model_module": "@jupyter-widgets/base",
      "model_module_version": "2.0.0",
      "model_name": "LayoutModel",
      "state": {}
     },
     "1f36aede2ffb46c985f4ca712cbf4664": {
      "model_module": "@jupyter-widgets/base",
      "model_module_version": "2.0.0",
      "model_name": "LayoutModel",
      "state": {}
     },
     "2bf19ed7235e491db66eb98672b58fe1": {
      "model_module": "@jupyter-widgets/controls",
      "model_module_version": "2.0.0",
      "model_name": "HTMLModel",
      "state": {
       "layout": "IPY_MODEL_1f36aede2ffb46c985f4ca712cbf4664",
       "style": "IPY_MODEL_84c1a4155ab742259d2ef79574533d9a",
       "value": " 0/2 [00:53&lt;?, ?it/s]"
      }
     },
     "35626c919a8844eabee117224571db8c": {
      "model_module": "@jupyter-widgets/controls",
      "model_module_version": "2.0.0",
      "model_name": "FloatProgressModel",
      "state": {
       "bar_style": "danger",
       "layout": "IPY_MODEL_1731d4546712473ebea7fd1d1d9a5954",
       "max": 157,
       "style": "IPY_MODEL_7a51b040910846fcaa4cd426a92b7ae6",
       "value": 12
      }
     },
     "37e4004054e34ab5972af63b6f8203b2": {
      "model_module": "@jupyter-widgets/base",
      "model_module_version": "2.0.0",
      "model_name": "LayoutModel",
      "state": {}
     },
     "3b14189700304ef9bbc354ec407cef3b": {
      "model_module": "@jupyter-widgets/controls",
      "model_module_version": "2.0.0",
      "model_name": "ProgressStyleModel",
      "state": {
       "description_width": ""
      }
     },
     "40e6c5a2f48d4d6ea98b5239f853ab45": {
      "model_module": "@jupyter-widgets/controls",
      "model_module_version": "2.0.0",
      "model_name": "FloatProgressModel",
      "state": {
       "bar_style": "success",
       "layout": "IPY_MODEL_efe5e6d411e049c09ddbe9a451a2a8dc",
       "max": 170,
       "style": "IPY_MODEL_e4ab3ae4d5e146df9fcf020ce42e624b",
       "value": 170
      }
     },
     "416e9fb5512e4e56b2bddf8f8e23c351": {
      "model_module": "@jupyter-widgets/controls",
      "model_module_version": "2.0.0",
      "model_name": "HTMLModel",
      "state": {
       "layout": "IPY_MODEL_7ac8a6963144481aa656f2f98b3962db",
       "style": "IPY_MODEL_85976ed699d546aeb72914a00d35bb55",
       "value": " 194/194 [00:00&lt;00:00, 510.72it/s]"
      }
     },
     "441efbf037904db7bda9d311b95166d5": {
      "model_module": "@jupyter-widgets/controls",
      "model_module_version": "2.0.0",
      "model_name": "HTMLModel",
      "state": {
       "layout": "IPY_MODEL_c27145e355e646acac079a0aa5e0a384",
       "style": "IPY_MODEL_ca44811fb4294b4994c11fe4817228d5",
       "value": "pdf files:   0%"
      }
     },
     "4813a115bf9948e4b87c37bf83770886": {
      "model_module": "@jupyter-widgets/controls",
      "model_module_version": "2.0.0",
      "model_name": "HTMLStyleModel",
      "state": {
       "description_width": "",
       "font_size": null,
       "text_color": null
      }
     },
     "4dd47cb6ba8b4f00bf4680e84192d697": {
      "model_module": "@jupyter-widgets/controls",
      "model_module_version": "2.0.0",
      "model_name": "ProgressStyleModel",
      "state": {
       "description_width": ""
      }
     },
     "4e0b022752174aeda32eb1f89a644a12": {
      "model_module": "@jupyter-widgets/base",
      "model_module_version": "2.0.0",
      "model_name": "LayoutModel",
      "state": {}
     },
     "507ea22287584dae98b126227a717b0a": {
      "model_module": "@jupyter-widgets/controls",
      "model_module_version": "2.0.0",
      "model_name": "ProgressStyleModel",
      "state": {
       "description_width": ""
      }
     },
     "5561b91769804380beecb2b54c61046c": {
      "model_module": "@jupyter-widgets/base",
      "model_module_version": "2.0.0",
      "model_name": "LayoutModel",
      "state": {}
     },
     "577d4be83e1c4730845610d535470088": {
      "model_module": "@jupyter-widgets/controls",
      "model_module_version": "2.0.0",
      "model_name": "HTMLStyleModel",
      "state": {
       "description_width": "",
       "font_size": null,
       "text_color": null
      }
     },
     "59974015c5474c0b9eb6d510a63a8dca": {
      "model_module": "@jupyter-widgets/base",
      "model_module_version": "2.0.0",
      "model_name": "LayoutModel",
      "state": {}
     },
     "5a316ad1aa8a472ea6d1c7639993ba9e": {
      "model_module": "@jupyter-widgets/controls",
      "model_module_version": "2.0.0",
      "model_name": "HBoxModel",
      "state": {
       "children": [
        "IPY_MODEL_441efbf037904db7bda9d311b95166d5",
        "IPY_MODEL_16c709148bde4652bfcbb7f415cde92e",
        "IPY_MODEL_2bf19ed7235e491db66eb98672b58fe1"
       ],
       "layout": "IPY_MODEL_95255dbe252b4b889c4ca8b76a96b505"
      }
     },
     "5ba8a7f1a3a24be2aa92fa492e3ad7be": {
      "model_module": "@jupyter-widgets/controls",
      "model_module_version": "2.0.0",
      "model_name": "HTMLStyleModel",
      "state": {
       "description_width": "",
       "font_size": null,
       "text_color": null
      }
     },
     "6497e50cac854fae92507deb9cb08807": {
      "model_module": "@jupyter-widgets/controls",
      "model_module_version": "2.0.0",
      "model_name": "HTMLModel",
      "state": {
       "layout": "IPY_MODEL_b85ed7bec29a4389b5f6e37b11eebc27",
       "style": "IPY_MODEL_5ba8a7f1a3a24be2aa92fa492e3ad7be",
       "value": " 2/2 [00:00&lt;00:00,  2.37it/s]"
      }
     },
     "6b3194e7065941c2b088f2a0dfcaf86c": {
      "model_module": "@jupyter-widgets/controls",
      "model_module_version": "2.0.0",
      "model_name": "HTMLStyleModel",
      "state": {
       "description_width": "",
       "font_size": null,
       "text_color": null
      }
     },
     "6c78c151015642ebbfe71d7daf036700": {
      "model_module": "@jupyter-widgets/controls",
      "model_module_version": "2.0.0",
      "model_name": "HTMLStyleModel",
      "state": {
       "description_width": "",
       "font_size": null,
       "text_color": null
      }
     },
     "72737e6cfa4f41b78d87605ded94ee8f": {
      "model_module": "@jupyter-widgets/base",
      "model_module_version": "2.0.0",
      "model_name": "LayoutModel",
      "state": {}
     },
     "7a182adb571540849ec1c0397a05f1a5": {
      "model_module": "@jupyter-widgets/controls",
      "model_module_version": "2.0.0",
      "model_name": "HTMLStyleModel",
      "state": {
       "description_width": "",
       "font_size": null,
       "text_color": null
      }
     },
     "7a51b040910846fcaa4cd426a92b7ae6": {
      "model_module": "@jupyter-widgets/controls",
      "model_module_version": "2.0.0",
      "model_name": "ProgressStyleModel",
      "state": {
       "description_width": ""
      }
     },
     "7ac8a6963144481aa656f2f98b3962db": {
      "model_module": "@jupyter-widgets/base",
      "model_module_version": "2.0.0",
      "model_name": "LayoutModel",
      "state": {}
     },
     "84c1a4155ab742259d2ef79574533d9a": {
      "model_module": "@jupyter-widgets/controls",
      "model_module_version": "2.0.0",
      "model_name": "HTMLStyleModel",
      "state": {
       "description_width": "",
       "font_size": null,
       "text_color": null
      }
     },
     "85976ed699d546aeb72914a00d35bb55": {
      "model_module": "@jupyter-widgets/controls",
      "model_module_version": "2.0.0",
      "model_name": "HTMLStyleModel",
      "state": {
       "description_width": "",
       "font_size": null,
       "text_color": null
      }
     },
     "883619f80d4049178633f305a7436e1e": {
      "model_module": "@jupyter-widgets/controls",
      "model_module_version": "2.0.0",
      "model_name": "HTMLModel",
      "state": {
       "layout": "IPY_MODEL_59974015c5474c0b9eb6d510a63a8dca",
       "style": "IPY_MODEL_7a182adb571540849ec1c0397a05f1a5",
       "value": "pdf files: 100%"
      }
     },
     "8993c0ba8fd2441a88be4d4f440cbec4": {
      "model_module": "@jupyter-widgets/controls",
      "model_module_version": "2.0.0",
      "model_name": "HBoxModel",
      "state": {
       "children": [
        "IPY_MODEL_09848326d0c44e089eb21d02329dd7d3",
        "IPY_MODEL_a32f91bb22564cdb89e0f52a927aae9c",
        "IPY_MODEL_416e9fb5512e4e56b2bddf8f8e23c351"
       ],
       "layout": "IPY_MODEL_37e4004054e34ab5972af63b6f8203b2"
      }
     },
     "8bed6dfad8ba40019e7f0a3880008be8": {
      "model_module": "@jupyter-widgets/controls",
      "model_module_version": "2.0.0",
      "model_name": "HBoxModel",
      "state": {
       "children": [
        "IPY_MODEL_0b430084e0bc4eeeba5dd974ede2ca88",
        "IPY_MODEL_35626c919a8844eabee117224571db8c",
        "IPY_MODEL_b2184778ff2444f8ad9aa06ea310c9fc"
       ],
       "layout": "IPY_MODEL_982da38e19494714a9bf895770d61233"
      }
     },
     "8bf0eab48d7748b59250c074d91bab64": {
      "model_module": "@jupyter-widgets/base",
      "model_module_version": "2.0.0",
      "model_name": "LayoutModel",
      "state": {}
     },
     "8fb2d49d0f754706bd93c5a09242bf2c": {
      "model_module": "@jupyter-widgets/controls",
      "model_module_version": "2.0.0",
      "model_name": "HTMLStyleModel",
      "state": {
       "description_width": "",
       "font_size": null,
       "text_color": null
      }
     },
     "95255dbe252b4b889c4ca8b76a96b505": {
      "model_module": "@jupyter-widgets/base",
      "model_module_version": "2.0.0",
      "model_name": "LayoutModel",
      "state": {}
     },
     "982da38e19494714a9bf895770d61233": {
      "model_module": "@jupyter-widgets/base",
      "model_module_version": "2.0.0",
      "model_name": "LayoutModel",
      "state": {}
     },
     "9c05f50c85d141949d2d2bfcabb779dd": {
      "model_module": "@jupyter-widgets/base",
      "model_module_version": "2.0.0",
      "model_name": "LayoutModel",
      "state": {}
     },
     "a32f91bb22564cdb89e0f52a927aae9c": {
      "model_module": "@jupyter-widgets/controls",
      "model_module_version": "2.0.0",
      "model_name": "FloatProgressModel",
      "state": {
       "bar_style": "success",
       "layout": "IPY_MODEL_c174379e335a4df8b5b3ad6be922122a",
       "max": 194,
       "style": "IPY_MODEL_507ea22287584dae98b126227a717b0a",
       "value": 194
      }
     },
     "ac149c8bdf5d455f986940cd09cb1b63": {
      "model_module": "@jupyter-widgets/controls",
      "model_module_version": "2.0.0",
      "model_name": "FloatProgressModel",
      "state": {
       "bar_style": "success",
       "layout": "IPY_MODEL_c98baab298444a93ab53e34476dc3278",
       "max": 2,
       "style": "IPY_MODEL_3b14189700304ef9bbc354ec407cef3b",
       "value": 2
      }
     },
     "b2184778ff2444f8ad9aa06ea310c9fc": {
      "model_module": "@jupyter-widgets/controls",
      "model_module_version": "2.0.0",
      "model_name": "HTMLModel",
      "state": {
       "layout": "IPY_MODEL_13f728ebfbcd495ab649625dd2d76ff0",
       "style": "IPY_MODEL_577d4be83e1c4730845610d535470088",
       "value": " 12/157 [00:26&lt;05:00,  2.07s/it]"
      }
     },
     "b85ed7bec29a4389b5f6e37b11eebc27": {
      "model_module": "@jupyter-widgets/base",
      "model_module_version": "2.0.0",
      "model_name": "LayoutModel",
      "state": {}
     },
     "c174379e335a4df8b5b3ad6be922122a": {
      "model_module": "@jupyter-widgets/base",
      "model_module_version": "2.0.0",
      "model_name": "LayoutModel",
      "state": {}
     },
     "c27145e355e646acac079a0aa5e0a384": {
      "model_module": "@jupyter-widgets/base",
      "model_module_version": "2.0.0",
      "model_name": "LayoutModel",
      "state": {}
     },
     "c4da0543ef754e74803326e2283b51e6": {
      "model_module": "@jupyter-widgets/controls",
      "model_module_version": "2.0.0",
      "model_name": "HTMLModel",
      "state": {
       "layout": "IPY_MODEL_72737e6cfa4f41b78d87605ded94ee8f",
       "style": "IPY_MODEL_6b3194e7065941c2b088f2a0dfcaf86c",
       "value": " 170/170 [00:00&lt;00:00, 452.90it/s]"
      }
     },
     "c58d3bfdbde64f79b417280bfbe409b1": {
      "model_module": "@jupyter-widgets/controls",
      "model_module_version": "2.0.0",
      "model_name": "HBoxModel",
      "state": {
       "children": [
        "IPY_MODEL_e3a87b0f9dd645e9a8893916c9b53980",
        "IPY_MODEL_40e6c5a2f48d4d6ea98b5239f853ab45",
        "IPY_MODEL_c4da0543ef754e74803326e2283b51e6"
       ],
       "layout": "IPY_MODEL_eb4a6d2a86044ef996172a4caa6b2354"
      }
     },
     "c98baab298444a93ab53e34476dc3278": {
      "model_module": "@jupyter-widgets/base",
      "model_module_version": "2.0.0",
      "model_name": "LayoutModel",
      "state": {}
     },
     "ca44811fb4294b4994c11fe4817228d5": {
      "model_module": "@jupyter-widgets/controls",
      "model_module_version": "2.0.0",
      "model_name": "HTMLStyleModel",
      "state": {
       "description_width": "",
       "font_size": null,
       "text_color": null
      }
     },
     "e3a87b0f9dd645e9a8893916c9b53980": {
      "model_module": "@jupyter-widgets/controls",
      "model_module_version": "2.0.0",
      "model_name": "HTMLModel",
      "state": {
       "layout": "IPY_MODEL_4e0b022752174aeda32eb1f89a644a12",
       "style": "IPY_MODEL_6c78c151015642ebbfe71d7daf036700",
       "value": "json files: 100%"
      }
     },
     "e4ab3ae4d5e146df9fcf020ce42e624b": {
      "model_module": "@jupyter-widgets/controls",
      "model_module_version": "2.0.0",
      "model_name": "ProgressStyleModel",
      "state": {
       "description_width": ""
      }
     },
     "e65581d080d64bceb267a928dacf185f": {
      "model_module": "@jupyter-widgets/base",
      "model_module_version": "2.0.0",
      "model_name": "LayoutModel",
      "state": {}
     },
     "eb4a6d2a86044ef996172a4caa6b2354": {
      "model_module": "@jupyter-widgets/base",
      "model_module_version": "2.0.0",
      "model_name": "LayoutModel",
      "state": {}
     },
     "efe5e6d411e049c09ddbe9a451a2a8dc": {
      "model_module": "@jupyter-widgets/base",
      "model_module_version": "2.0.0",
      "model_name": "LayoutModel",
      "state": {}
     },
     "f0a0468519fa44fbb95eebdb861a39c1": {
      "model_module": "@jupyter-widgets/controls",
      "model_module_version": "2.0.0",
      "model_name": "HBoxModel",
      "state": {
       "children": [
        "IPY_MODEL_883619f80d4049178633f305a7436e1e",
        "IPY_MODEL_ac149c8bdf5d455f986940cd09cb1b63",
        "IPY_MODEL_6497e50cac854fae92507deb9cb08807"
       ],
       "layout": "IPY_MODEL_e65581d080d64bceb267a928dacf185f"
      }
     }
    },
    "version_major": 2,
    "version_minor": 0
   }
  }
 },
 "nbformat": 4,
 "nbformat_minor": 5
}
