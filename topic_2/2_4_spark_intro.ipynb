{
 "cells": [
  {
   "cell_type": "markdown",
   "id": "655feebd-4c49-4420-98d5-ce90dd8b67ce",
   "metadata": {},
   "source": [
    "# Applied Project in Big Data on Industrial Dataset"
   ]
  },
  {
   "cell_type": "markdown",
   "id": "cb0e215b-97e6-49b6-a344-6f59aeb2554e",
   "metadata": {},
   "source": [
    "## DATA COLLECTION AND PROCESSING TECHNIQUES\n",
    "## Part IV. Spark intro"
   ]
  },
  {
   "cell_type": "markdown",
   "id": "23822efd-cece-427b-b96d-3ab2a92cf560",
   "metadata": {},
   "source": [
    "### 1. Libraries and Spark setup"
   ]
  },
  {
   "cell_type": "code",
   "execution_count": null,
   "id": "2a78ba91-a8ad-43c3-806e-5fc23c39a35b",
   "metadata": {
    "tags": []
   },
   "outputs": [],
   "source": [
    "import os\n",
    "import sys\n",
    "import json\n",
    "import numpy as np\n",
    "import pandas as pd\n",
    "import matplotlib.pyplot as plt\n",
    "pd.set_option('display.max_columns', None)\n",
    "pd.set_option('display.max_rows', None)"
   ]
  },
  {
   "cell_type": "code",
   "execution_count": null,
   "id": "897724d7-5ef5-4ff1-9b8e-a33ae8457ca2",
   "metadata": {
    "tags": []
   },
   "outputs": [],
   "source": [
    "from pyspark import SparkContext, SparkConf\n",
    "from pyspark.sql import SparkSession\n",
    "from pyspark.sql import functions as F\n",
    "from pyspark.sql.types import *\n",
    "from pyspark.sql.window import Window\n",
    "from pyspark.ml.feature import IndexToString, StringIndexer, OneHotEncoder\n",
    "from  pyspark.ml.stat import Summarizer"
   ]
  },
  {
   "cell_type": "code",
   "execution_count": null,
   "id": "2f214c4d-2142-4557-814f-4fb22a0370d4",
   "metadata": {
    "tags": []
   },
   "outputs": [],
   "source": [
    "print('user:', os.environ['JUPYTERHUB_SERVICE_PREFIX'])\n",
    "\n",
    "\n",
    "def uiWebUrl(self):\n",
    "    from urllib.parse import urlparse\n",
    "    web_url = self._jsc.sc().uiWebUrl().get()\n",
    "    port = urlparse(web_url).port\n",
    "    return '{}proxy/{}/jobs/'.format(os.environ['JUPYTERHUB_SERVICE_PREFIX'], port)\n",
    "\n",
    "\n",
    "SparkContext.uiWebUrl = property(uiWebUrl)\n",
    "\n",
    "conf = SparkConf()\n",
    "conf.set('spark.master', 'local[*]')\n",
    "conf.set('spark.driver.memory', '16G')\n",
    "conf.set('spark.driver.maxResultSize', '8G')\n",
    "sc = SparkContext(conf=conf)\n",
    "spark = SparkSession(sc)\n",
    "spark"
   ]
  },
  {
   "cell_type": "markdown",
   "id": "40e8ba75-8dcf-418c-9019-dae245606403",
   "metadata": {},
   "source": [
    "### 2. Data load with Spark"
   ]
  },
  {
   "cell_type": "code",
   "execution_count": null,
   "id": "2dc97c46-6869-44bc-b0a3-65d6f836d8e7",
   "metadata": {},
   "outputs": [],
   "source": [
    "os.listdir('articles_data')"
   ]
  },
  {
   "cell_type": "code",
   "execution_count": null,
   "id": "5fd5abf2-109c-47fb-af1a-9f5c202947b6",
   "metadata": {},
   "outputs": [],
   "source": [
    "file_path = './articles_data/*.json'\n",
    "sdf = spark.read.json(file_path)"
   ]
  },
  {
   "cell_type": "code",
   "execution_count": null,
   "id": "1d36013d-cd5f-41e9-ae1c-21ad6266e149",
   "metadata": {
    "tags": []
   },
   "outputs": [],
   "source": [
    "sdf.printSchema()"
   ]
  },
  {
   "cell_type": "code",
   "execution_count": null,
   "id": "1baf5466-6a61-4db5-a8eb-ce6a2641d197",
   "metadata": {
    "tags": []
   },
   "outputs": [],
   "source": [
    "sdf.count()"
   ]
  },
  {
   "cell_type": "code",
   "execution_count": null,
   "id": "f0802ab8-5e2b-4642-a8f1-e39402b7e883",
   "metadata": {},
   "outputs": [],
   "source": [
    "sdf.limit(5).toPandas()"
   ]
  },
  {
   "cell_type": "markdown",
   "id": "2090fcf2-99ba-4357-a539-1b7e1b6ae0a4",
   "metadata": {
    "tags": []
   },
   "source": [
    "### 3. Texts processing"
   ]
  },
  {
   "cell_type": "code",
   "execution_count": null,
   "id": "f7126c0b-d1f9-49f0-9dc7-134090125550",
   "metadata": {},
   "outputs": [],
   "source": [
    "sdf = sdf.withColumn('file', F.input_file_name())\n",
    "sdf.limit(2).toPandas()"
   ]
  },
  {
   "cell_type": "code",
   "execution_count": null,
   "id": "5e64b0eb-ea02-47f4-94f9-75a153843983",
   "metadata": {},
   "outputs": [],
   "source": [
    "sdf = sdf.withColumn(\n",
    "    'file', \n",
    "    F.regexp_replace(\n",
    "        'file', \n",
    "        'file:///home/jovyan/apbdid_23/topic_2/articles_data/articles_lbl_', \n",
    "        '')\n",
    ")\n",
    "sdf = sdf.withColumn(\n",
    "    'label', \n",
    "    F.regexp_replace(\n",
    "        'file', \n",
    "        '.json', \n",
    "        '')\n",
    ")\n",
    "sdf.limit(5).toPandas()"
   ]
  },
  {
   "cell_type": "code",
   "execution_count": null,
   "id": "6a6069c9-0f91-43e9-a7a8-f11a6aa61074",
   "metadata": {},
   "outputs": [],
   "source": [
    "sdf = sdf.select(\n",
    "    sdf.label,\n",
    "    F.explode(sdf.articles)\n",
    ")\n",
    "sdf.limit(5).toPandas()"
   ]
  },
  {
   "cell_type": "code",
   "execution_count": null,
   "id": "c1d726c2-e75c-41b3-926e-01b861c82080",
   "metadata": {},
   "outputs": [],
   "source": [
    "sdf.printSchema()"
   ]
  },
  {
   "cell_type": "code",
   "execution_count": null,
   "id": "e167cc9e-68a6-480f-a51f-a03857c3da25",
   "metadata": {},
   "outputs": [],
   "source": [
    "def flat_df(df, prefix=None):\n",
    "    flat_cols = [c[0] for c in df.dtypes if c[1][:6] != 'struct']\n",
    "    nested_cols = [c[0] for c in df.dtypes if c[1][:6] == 'struct']\n",
    "    flat_df = df.select(\n",
    "        flat_cols + \n",
    "        [F.col(ncol + '.' + col).alias(prefix + col if prefix else ncol + '_' + col )\n",
    "         for ncol in nested_cols\n",
    "         for col in df.select(ncol + '.*').columns]\n",
    "    )\n",
    "    return flat_df\n",
    "\n",
    "\n",
    "sdf = flat_df(sdf, prefix='')\n",
    "sdf.limit(5).toPandas()"
   ]
  },
  {
   "cell_type": "code",
   "execution_count": null,
   "id": "af919640-c4c1-454a-9a33-93f1cd67ec4a",
   "metadata": {},
   "outputs": [],
   "source": [
    "sdf_ds = sdf.select(\n",
    "    sdf.label,\n",
    "    sdf.col_name.alias('title'),\n",
    "    sdf.col_annotation.alias('annotation'),\n",
    "    sdf.col_link.alias('url')\n",
    ")\n",
    "sdf_ds.limit(5).toPandas()"
   ]
  },
  {
   "cell_type": "code",
   "execution_count": null,
   "id": "a30f983b-84f7-4fdf-94bc-a83ffa34fa1e",
   "metadata": {},
   "outputs": [],
   "source": [
    "sdf_ds.groupBy('label').count().show()"
   ]
  },
  {
   "cell_type": "code",
   "execution_count": null,
   "id": "b8e6be11-65dc-4db1-a504-e09309289f90",
   "metadata": {},
   "outputs": [],
   "source": [
    "# is there a multilabel problem?\n",
    "sdf \\\n",
    "    .groupby(['col_link']) \\\n",
    "    .count() \\\n",
    "    .where('count > 1') \\\n",
    "    .sort('count', ascending=False) \\\n",
    "    .count()"
   ]
  },
  {
   "cell_type": "code",
   "execution_count": null,
   "id": "c67e684d-de85-4f89-933a-ce968090b7fa",
   "metadata": {
    "tags": []
   },
   "outputs": [],
   "source": [
    "indexer = StringIndexer(inputCol='label', outputCol='category')\n",
    "model = indexer.fit(sdf_ds)\n",
    "sdf_ds = model.transform(sdf_ds)\n",
    "sdf_ds.limit(5).toPandas()"
   ]
  },
  {
   "cell_type": "code",
   "execution_count": null,
   "id": "c1f4ebd0-e1dd-47c6-a6ee-4bac94f3a89f",
   "metadata": {
    "tags": []
   },
   "outputs": [],
   "source": [
    "encoder = OneHotEncoder(\n",
    "    inputCols=['category'],\n",
    "    outputCols=['vec']\n",
    ")\n",
    "model = encoder.fit(sdf_ds)\n",
    "sdf_ds = model.transform(sdf_ds)\n",
    "sdf_ds.limit(5).toPandas()"
   ]
  },
  {
   "cell_type": "code",
   "execution_count": null,
   "id": "d68235c2-f4de-4b1d-8f14-ad30c44ab92f",
   "metadata": {
    "tags": []
   },
   "outputs": [],
   "source": [
    "sdf_ds.count()"
   ]
  },
  {
   "cell_type": "code",
   "execution_count": null,
   "id": "8722aea2-c92a-46b8-9350-974d2541f178",
   "metadata": {
    "tags": []
   },
   "outputs": [],
   "source": [
    "sdf_ds_ = sdf_ds \\\n",
    "    .groupBy(sdf_ds.url, sdf_ds.title, sdf_ds.annotation) \\\n",
    "    .agg(Summarizer.sum(sdf_ds.vec).alias('target'))"
   ]
  },
  {
   "cell_type": "code",
   "execution_count": null,
   "id": "af5e8827-f5bf-4726-9802-2e2c491f42c5",
   "metadata": {
    "tags": []
   },
   "outputs": [],
   "source": [
    "sdf_ds_.limit(5).toPandas()"
   ]
  },
  {
   "cell_type": "code",
   "execution_count": null,
   "id": "9877c333-5331-44ea-a64a-6530e087a123",
   "metadata": {
    "tags": []
   },
   "outputs": [],
   "source": [
    "sdf_ds_.count()"
   ]
  },
  {
   "cell_type": "markdown",
   "id": "cff3205a-434e-459c-8f63-f3d7df4e706a",
   "metadata": {},
   "source": [
    "### 4. Save to file"
   ]
  },
  {
   "cell_type": "code",
   "execution_count": null,
   "id": "9aebfd11-2eaa-42c6-995d-cfef137d4c64",
   "metadata": {
    "tags": []
   },
   "outputs": [],
   "source": [
    "file_path_ds = 'articles_data/arcicles_dataset.csv'\n",
    "sdf_ds_.toPandas().to_csv(file_path_ds)"
   ]
  },
  {
   "cell_type": "code",
   "execution_count": null,
   "id": "9015207e-121e-4e8e-bdc3-b2112d38c091",
   "metadata": {},
   "outputs": [],
   "source": []
  }
 ],
 "metadata": {
  "kernelspec": {
   "display_name": "Python 3 (ipykernel)",
   "language": "python",
   "name": "python3"
  },
  "language_info": {
   "codemirror_mode": {
    "name": "ipython",
    "version": 3
   },
   "file_extension": ".py",
   "mimetype": "text/x-python",
   "name": "python",
   "nbconvert_exporter": "python",
   "pygments_lexer": "ipython3",
   "version": "3.9.7"
  },
  "widgets": {
   "application/vnd.jupyter.widget-state+json": {
    "state": {},
    "version_major": 2,
    "version_minor": 0
   }
  }
 },
 "nbformat": 4,
 "nbformat_minor": 5
}
