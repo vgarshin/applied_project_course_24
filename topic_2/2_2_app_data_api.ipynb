{
 "cells": [
  {
   "cell_type": "markdown",
   "id": "c9d1eff9-aa19-48ed-b3ab-fefdb459ccb9",
   "metadata": {},
   "source": [
    "# Applied Project in Big Data on Industrial Dataset"
   ]
  },
  {
   "cell_type": "markdown",
   "id": "bbe63e6b-64a1-42e1-9d9a-d418c5bba791",
   "metadata": {},
   "source": [
    "## DATA COLLECTION AND PROCESSING TECHNIQUES\n",
    "## Part II. Application data load via API"
   ]
  },
  {
   "cell_type": "markdown",
   "id": "2689584d-1fc7-4968-8607-bbef38f32be3",
   "metadata": {},
   "source": [
    "### 1. Libraries"
   ]
  },
  {
   "cell_type": "code",
   "execution_count": null,
   "id": "261ffceb-a7b6-4729-9d97-9b6366fcc5df",
   "metadata": {
    "tags": []
   },
   "outputs": [],
   "source": [
    "import os\n",
    "import json\n",
    "import requests\n",
    "import pandas as pd\n",
    "pd.set_option('display.max_columns', None)"
   ]
  },
  {
   "cell_type": "markdown",
   "id": "c7b9aee5-acf3-4e12-9732-15b702c974af",
   "metadata": {},
   "source": [
    "### 2. Authorization with token"
   ]
  },
  {
   "cell_type": "code",
   "execution_count": null,
   "id": "1b4ddb7a-ec6c-40fc-8c8f-23e5c00dbdc5",
   "metadata": {
    "tags": []
   },
   "outputs": [],
   "source": [
    "def access_data(file_path):\n",
    "    with open(file_path) as file:\n",
    "        access_data = json.load(file)\n",
    "    return access_data\n",
    "\n",
    "creds = access_data(file_path='creds/token.json')\n",
    "print(creds.keys())"
   ]
  },
  {
   "cell_type": "code",
   "execution_count": null,
   "id": "2e9b0b69-9c8f-49ce-93ee-3676608c633e",
   "metadata": {
    "tags": []
   },
   "outputs": [],
   "source": [
    "header = {\n",
    "    'Authorization': f'OAuth {creds[\"oauth_token\"]}'\n",
    "}"
   ]
  },
  {
   "cell_type": "markdown",
   "id": "5fd06c9e-ad12-45c9-bc6d-f2dc77594304",
   "metadata": {},
   "source": [
    "### 3. Download loop"
   ]
  },
  {
   "cell_type": "markdown",
   "id": "775dc8f3-f053-4f1c-9aa7-bbb691297988",
   "metadata": {},
   "source": [
    "[About API](https://appmetrica.yandex.ru/docs/en/mobile-api/logs/endpoints) for a desired applicaton."
   ]
  },
  {
   "cell_type": "code",
   "execution_count": null,
   "id": "5a3ab7e0-d31f-4b04-aced-5302c516bf2e",
   "metadata": {
    "tags": []
   },
   "outputs": [],
   "source": [
    "app_id = '108955'\n",
    "api_point = 'events'\n",
    "fields = [\n",
    "    'event_datetime',\n",
    "    'event_json',\n",
    "    'event_name',\n",
    "    'event_receive_datetime',\n",
    "    'event_receive_timestamp',\n",
    "    'event_timestamp',\n",
    "    'session_id',\n",
    "    'installation_id',\n",
    "    'appmetrica_device_id',\n",
    "    'city',\n",
    "    'connection_type',\n",
    "    'country_iso_code',\n",
    "    'device_ipv6',\n",
    "    'device_locale',\n",
    "    'device_manufacturer',\n",
    "    'device_model',\n",
    "    'device_type',\n",
    "    'google_aid',\n",
    "    'ios_ifa',\n",
    "    'ios_ifv',\n",
    "    'mcc',\n",
    "    'mnc',\n",
    "    'operator_name',\n",
    "    'original_device_model',\n",
    "    'os_name',\n",
    "    'os_version',\n",
    "    'profile_id',\n",
    "    'windows_aid',\n",
    "    'app_build_number',\n",
    "    'app_package_name',\n",
    "    'app_version_name',\n",
    "    'application_id'\n",
    "]"
   ]
  },
  {
   "cell_type": "code",
   "execution_count": null,
   "id": "a1f53845-0b7a-4a0a-b4cb-f39e3404f6e0",
   "metadata": {
    "tags": []
   },
   "outputs": [],
   "source": [
    "from datetime import date, timedelta\n",
    "import time\n",
    "\n",
    "def daterange(start_date, end_date):\n",
    "    for n in range(int((end_date - start_date).days)):\n",
    "        yield start_date + timedelta(n)\n",
    "\n",
    "start_date = date(2024, 6, 2)\n",
    "end_date = date(2024, 6, 6)"
   ]
  },
  {
   "cell_type": "code",
   "execution_count": null,
   "id": "2248bef4-b3b1-464c-ae6e-7e9e90441866",
   "metadata": {
    "tags": []
   },
   "outputs": [],
   "source": [
    "for day in daterange(start_date, end_date):\n",
    "    sday = day.strftime('%Y-%m-%d')\n",
    "    print('start loading day', sday)"
   ]
  },
  {
   "cell_type": "code",
   "execution_count": null,
   "id": "1d59446d-7da8-4014-94a7-38559a9cd649",
   "metadata": {
    "tags": []
   },
   "outputs": [],
   "source": [
    "save_path = f'data/{api_point}'\n",
    "os.makedirs(save_path, exist_ok=True)\n",
    "DELAY = 10\n",
    "\n",
    "for day in daterange(start_date, end_date):\n",
    "    sday = day.strftime('%Y-%m-%d')\n",
    "    print('start loading day', sday, end=' ')\n",
    "    url = ''.join([\n",
    "        f'https://api.appmetrica.yandex.ru/logs/v1/export/events.csv?',\n",
    "        f'application_id={app_id}',\n",
    "        f'&date_since={sday}',\n",
    "        f'&date_until={sday}',\n",
    "        f'&fields={\",\".join(fields)}'\n",
    "    ])\n",
    "    status_code = None\n",
    "    while status_code != 200:\n",
    "        r = requests.get(url, headers=header)\n",
    "        status_code = r.status_code\n",
    "        if status_code != 200:\n",
    "            print('status code', status_code, 'waiting...', end=' ')\n",
    "            time.sleep(DELAY)\n",
    "    file_name = f'{save_path}/data_{sday}.csv'\n",
    "    with open(file_name, 'w', encoding='utf-8') as file:\n",
    "        file.write(r.text.encode('l1').decode())\n",
    "    print('data saved to file', file_name)"
   ]
  },
  {
   "cell_type": "markdown",
   "id": "fc8bb658-cc70-42fe-a442-5f99b66198b4",
   "metadata": {},
   "source": [
    "### 4. Test loaded data"
   ]
  },
  {
   "cell_type": "code",
   "execution_count": null,
   "id": "bf29d40d-2a10-4e8b-8a7a-156f1e192fa1",
   "metadata": {
    "tags": []
   },
   "outputs": [],
   "source": [
    "api_point = 'events'\n",
    "save_path = f'data/{api_point}'\n",
    "all_files = os.listdir(save_path)"
   ]
  },
  {
   "cell_type": "code",
   "execution_count": null,
   "id": "7e335f25-9e42-49c0-a899-3d6edf661cec",
   "metadata": {
    "tags": []
   },
   "outputs": [],
   "source": [
    "df = pd.read_csv(f'{save_path}/{all_files[-1]}')\n",
    "print(df.shape)\n",
    "display(df.head())"
   ]
  },
  {
   "cell_type": "code",
   "execution_count": null,
   "id": "8cff390e-54e0-4ae4-866a-2193d3efa71b",
   "metadata": {
    "tags": []
   },
   "outputs": [],
   "source": [
    "df.info()"
   ]
  },
  {
   "cell_type": "code",
   "execution_count": null,
   "id": "1c716b2f-5344-4dac-9942-16d56dac3a8b",
   "metadata": {},
   "outputs": [],
   "source": []
  }
 ],
 "metadata": {
  "kernelspec": {
   "display_name": "Python 3 (ipykernel)",
   "language": "python",
   "name": "python3"
  },
  "language_info": {
   "codemirror_mode": {
    "name": "ipython",
    "version": 3
   },
   "file_extension": ".py",
   "mimetype": "text/x-python",
   "name": "python",
   "nbconvert_exporter": "python",
   "pygments_lexer": "ipython3",
   "version": "3.10.8"
  },
  "widgets": {
   "application/vnd.jupyter.widget-state+json": {
    "state": {},
    "version_major": 2,
    "version_minor": 0
   }
  }
 },
 "nbformat": 4,
 "nbformat_minor": 5
}
